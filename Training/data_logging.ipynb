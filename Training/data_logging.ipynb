{
 "cells": [
  {
   "cell_type": "code",
   "execution_count": 3,
   "metadata": {},
   "outputs": [],
   "source": [
    "import cv2 as cv\n",
    "import mediapipe as mp\n",
    "import numpy as np\n",
    "import time"
   ]
  },
  {
   "cell_type": "code",
   "execution_count": 4,
   "metadata": {},
   "outputs": [],
   "source": [
    "def find_center_of_hand(hand_landmarks):\n",
    "    x_vals = [landmark.x for landmark in hand_landmarks.landmark]\n",
    "    y_vals = [landmark.y for landmark in hand_landmarks.landmark]\n",
    "    z_vals = [landmark.z for landmark in hand_landmarks.landmark]\n",
    "\n",
    "    x_center = sum(x_vals) / len(x_vals)\n",
    "    y_center = sum(y_vals) / len(y_vals)\n",
    "    z_center = sum(z_vals) / len(z_vals)\n",
    "\n",
    "    return x_center, y_center, z_center"
   ]
  },
  {
   "cell_type": "code",
   "execution_count": 5,
   "metadata": {},
   "outputs": [],
   "source": [
    "def calculate_angle(L_coordinates, R_coordinates):\n",
    "    x1, y1, z1 = L_coordinates\n",
    "    x2, y2, z2 = R_coordinates\n",
    "\n",
    "    x_diff = x2 - x1\n",
    "    y_diff = y2 - y1\n",
    "    z_diff = z2 - z1\n",
    "\n",
    "    cos_theta = x_diff / np.sqrt(x_diff**2 + y_diff**2 + z_diff**2)\n",
    "\n",
    "    theta_degrees = np.arccos(cos_theta) * 180 / np.pi\n",
    "\n",
    "    theta_degrees = -theta_degrees if y_diff > 0 else theta_degrees\n",
    "\n",
    "    return round(theta_degrees, 2)"
   ]
  },
  {
   "cell_type": "code",
   "execution_count": 6,
   "metadata": {},
   "outputs": [],
   "source": [
    "def draw_landmarks(detection_results, image):\n",
    "\n",
    "    width = image.shape[1]\n",
    "    height = image.shape[0]\n",
    "\n",
    "    for hand_landmarks in detection_results.multi_hand_landmarks:\n",
    "        x_center, y_center, _ = find_center_of_hand(hand_landmarks)\n",
    "        cv.circle(image, (int(x_center * width), int(y_center * height)), 5, (255, 0, 0), -1)\n",
    "        for landmark in hand_landmarks.landmark:\n",
    "            x = min(int(landmark.x * width), width - 1)\n",
    "            y = min(int(landmark.y * height), height - 1)\n",
    "            cv.circle(image, (x, y), 5, (0, 255, 0), -1)\n",
    "\n",
    "    return image"
   ]
  },
  {
   "cell_type": "code",
   "execution_count": 7,
   "metadata": {},
   "outputs": [],
   "source": [
    "def flatten_scale_relative(results):\n",
    "\n",
    "    flattened_scaled_results = []\n",
    "    for hand_landmarks in results.multi_hand_landmarks:\n",
    "        x_wrist = hand_landmarks.landmark[0].x\n",
    "        y_wrist = hand_landmarks.landmark[0].y\n",
    "\n",
    "        for landmark in hand_landmarks.landmark:\n",
    "            flattened_scaled_results.append(landmark.x - x_wrist)\n",
    "            flattened_scaled_results.append(landmark.y - y_wrist)\n",
    "            flattened_scaled_results.append(landmark.z)\n",
    "    \n",
    "    return flattened_scaled_results"
   ]
  },
  {
   "cell_type": "code",
   "execution_count": 8,
   "metadata": {},
   "outputs": [],
   "source": [
    "def write_to_csv(results, csv_path, category):\n",
    "    csv_row = [category]\n",
    "    csv_row.extend(flatten_scale_relative(results))\n",
    "\n",
    "    # write to csv\n",
    "    with open(csv_path, 'a') as f:\n",
    "        f.write(','.join([str(x) for x in csv_row]) + '\\n')\n"
   ]
  },
  {
   "cell_type": "code",
   "execution_count": 11,
   "metadata": {},
   "outputs": [],
   "source": [
    "# hands = mp.solutions.hands.Hands(static_image_mode=False, max_num_hands=2, min_detection_confidence=0.7,\n",
    "#                                  min_tracking_confidence=0.5)\n",
    "\n",
    "# img = cv.imread('Data\\istockphoto-1267273871-612x612.jpg')\n",
    "# img = cv.flip(img, 1)\n",
    "\n",
    "\n",
    "# cv.imshow('image', img)\n",
    "\n",
    "# results = hands.process(cv.cvtColor(img, cv.COLOR_BGR2RGB))\n",
    "\n",
    "# write_to_csv(results, 'Data\\hands.csv', 0)\n",
    "\n",
    "# cv.waitKey(0)\n",
    "# cv.destroyAllWindows()"
   ]
  },
  {
   "cell_type": "code",
   "execution_count": 11,
   "metadata": {},
   "outputs": [],
   "source": [
    "def log_data(csv_path, category, range):\n",
    "    cap = cv.VideoCapture(0)\n",
    "    hands = mp.solutions.hands.Hands(static_image_mode=False, max_num_hands=2, min_detection_confidence=0.7,\n",
    "                                    min_tracking_confidence=0.5)\n",
    "\n",
    "    NUM_SAMPLES = 1000\n",
    "\n",
    "    time.sleep(7)\n",
    "    print('STARTING')\n",
    "    sample_count = 0\n",
    "    while True:\n",
    "        success, img = cap.read()\n",
    "        img = cv.flip(img, 1)\n",
    "\n",
    "        if not success:\n",
    "            print(\"Could not read frame\")\n",
    "            break\n",
    "\n",
    "        results = hands.process(cv.cvtColor(img, cv.COLOR_BGR2RGB))\n",
    "\n",
    "        if results.multi_hand_landmarks and sample_count < NUM_SAMPLES:\n",
    "            \n",
    "            if len(results.multi_hand_landmarks) == 2:\n",
    "                # write_to_csv(results, csv_path, category)\n",
    "\n",
    "                #draw a line between the centers of the two hands\n",
    "                x_center_L, y_center_L, z_center_L = find_center_of_hand(results.multi_hand_landmarks[0])\n",
    "                x_center_R, y_center_R, z_center_R = find_center_of_hand(results.multi_hand_landmarks[1])\n",
    "\n",
    "                cv.line(img, (int(x_center_L * img.shape[1]), int(y_center_L * img.shape[0])),\n",
    "                        (int(x_center_R * img.shape[1]), int(y_center_R * img.shape[0])), (0, 0, 255), 3)\n",
    "                \n",
    "                #calculate angle between the two hands\n",
    "                angle = calculate_angle((x_center_L, y_center_L, z_center_L), (x_center_R, y_center_R, z_center_R))\n",
    "\n",
    "                # write angle on top left corner\n",
    "                cv.putText(img, str(angle), (10, 50), cv.FONT_HERSHEY_SIMPLEX, 1, (0, 0, 255), 2, cv.LINE_AA)\n",
    "\n",
    "                if category == 0:\n",
    "                    if range[0] < angle < range[1]:\n",
    "                        sample_count += 1\n",
    "                        write_to_csv(results, csv_path, category)\n",
    "                else:\n",
    "                    sample_count += 1\n",
    "                    write_to_csv(results, csv_path, category)\n",
    "                \n",
    "                            \n",
    "            if len(results.multi_hand_landmarks) < 2:\n",
    "                print('NOT WRITING')\n",
    "            \n",
    "            img = draw_landmarks(results, img)\n",
    "        \n",
    "        cv.imshow(\"image\", img)\n",
    "\n",
    "        if sample_count == 250 or sample_count == 750:\n",
    "            print(sample_count)\n",
    "\n",
    "        if cv.waitKey(1) == 27 or sample_count == NUM_SAMPLES:\n",
    "            break\n",
    "\n",
    "    cap.release()\n",
    "    cv.destroyAllWindows()"
   ]
  },
  {
   "cell_type": "code",
   "execution_count": 12,
   "metadata": {},
   "outputs": [
    {
     "name": "stdout",
     "output_type": "stream",
     "text": [
      "STARTING\n",
      "250\n",
      "750\n"
     ]
    }
   ],
   "source": [
    "# collecting data for steering position\n",
    "log_data('Data\\steering_Angles\\15_angle.csv', 0, (-5, 5))"
   ]
  }
 ],
 "metadata": {
  "kernelspec": {
   "display_name": "Python 3",
   "language": "python",
   "name": "python3"
  },
  "language_info": {
   "codemirror_mode": {
    "name": "ipython",
    "version": 3
   },
   "file_extension": ".py",
   "mimetype": "text/x-python",
   "name": "python",
   "nbconvert_exporter": "python",
   "pygments_lexer": "ipython3",
   "version": "3.11.4"
  },
  "orig_nbformat": 4
 },
 "nbformat": 4,
 "nbformat_minor": 2
}
