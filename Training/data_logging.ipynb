{
 "cells": [
  {
   "cell_type": "code",
   "execution_count": 48,
   "metadata": {},
   "outputs": [],
   "source": [
    "import cv2 as cv\n",
    "import mediapipe as mp\n",
    "import numpy as np\n",
    "import time"
   ]
  },
  {
   "cell_type": "code",
   "execution_count": 49,
   "metadata": {},
   "outputs": [],
   "source": [
    "def draw_landmarks(detection_results, image):\n",
    "\n",
    "    width = image.shape[1]\n",
    "    height = image.shape[0]\n",
    "\n",
    "    for hand_landmarks in detection_results.multi_hand_landmarks:\n",
    "        for landmark in hand_landmarks.landmark:\n",
    "            x = min(int(landmark.x * width), width - 1)\n",
    "            y = min(int(landmark.y * height), height - 1)\n",
    "            cv.circle(image, (x, y), 5, (0, 255, 0), -1)\n",
    "\n",
    "    return image"
   ]
  },
  {
   "cell_type": "code",
   "execution_count": 50,
   "metadata": {},
   "outputs": [],
   "source": [
    "def find_center_of_hand(hand_landmarks):\n",
    "    x_vals = [landmark.x for landmark in hand_landmarks.landmark]\n",
    "    y_vals = [landmark.y for landmark in hand_landmarks.landmark]\n",
    "    z_vals = [landmark.z for landmark in hand_landmarks.landmark]\n",
    "\n",
    "    x_center = sum(x_vals) / len(x_vals)\n",
    "    y_center = sum(y_vals) / len(y_vals)\n",
    "    z_center = sum(z_vals) / len(z_vals)\n",
    "\n",
    "    return x_center, y_center, z_center"
   ]
  },
  {
   "cell_type": "code",
   "execution_count": 52,
   "metadata": {},
   "outputs": [],
   "source": [
    "def flatten_scale_relative(results):\n",
    "\n",
    "    flattened_scaled_results = []\n",
    "    for hand_landmarks in results.multi_hand_landmarks:\n",
    "        x_wrist = hand_landmarks.landmark[0].x\n",
    "        y_wrist = hand_landmarks.landmark[0].y\n",
    "\n",
    "        for landmark in hand_landmarks.landmark:\n",
    "            flattened_scaled_results.append(landmark.x - x_wrist)\n",
    "            flattened_scaled_results.append(landmark.y - y_wrist)\n",
    "            flattened_scaled_results.append(landmark.z)\n",
    "    \n",
    "    return flattened_scaled_results"
   ]
  },
  {
   "cell_type": "code",
   "execution_count": 53,
   "metadata": {},
   "outputs": [],
   "source": [
    "def write_to_csv(results, csv_path, category):\n",
    "    csv_row = [category]\n",
    "    csv_row.extend(flatten_scale_relative(results))\n",
    "\n",
    "    # write to csv\n",
    "    with open(csv_path, 'a') as f:\n",
    "        f.write(','.join([str(x) for x in csv_row]) + '\\n')\n"
   ]
  },
  {
   "cell_type": "code",
   "execution_count": null,
   "metadata": {},
   "outputs": [],
   "source": []
  },
  {
   "cell_type": "code",
   "execution_count": 11,
   "metadata": {},
   "outputs": [],
   "source": [
    "# hands = mp.solutions.hands.Hands(static_image_mode=False, max_num_hands=2, min_detection_confidence=0.7,\n",
    "#                                  min_tracking_confidence=0.5)\n",
    "\n",
    "# img = cv.imread('Data\\istockphoto-1267273871-612x612.jpg')\n",
    "# img = cv.flip(img, 1)\n",
    "\n",
    "\n",
    "# cv.imshow('image', img)\n",
    "\n",
    "# results = hands.process(cv.cvtColor(img, cv.COLOR_BGR2RGB))\n",
    "\n",
    "# write_to_csv(results, 'Data\\hands.csv', 0)\n",
    "\n",
    "# cv.waitKey(0)\n",
    "# cv.destroyAllWindows()"
   ]
  },
  {
   "cell_type": "code",
   "execution_count": 54,
   "metadata": {},
   "outputs": [],
   "source": [
    "def log_data(csv_path, category):\n",
    "    cap = cv.VideoCapture(0)\n",
    "    hands = mp.solutions.hands.Hands(static_image_mode=False, max_num_hands=2, min_detection_confidence=0.7,\n",
    "                                    min_tracking_confidence=0.5)\n",
    "\n",
    "\n",
    "    time.sleep(7)\n",
    "    print('STARTING')\n",
    "    while True:\n",
    "        success, img = cap.read()\n",
    "        img = cv.flip(img, 1)\n",
    "\n",
    "        if not success:\n",
    "            print(\"Could not read frame\")\n",
    "            break\n",
    "\n",
    "        results = hands.process(cv.cvtColor(img, cv.COLOR_BGR2RGB))\n",
    "\n",
    "        if results.multi_hand_landmarks:\n",
    "            \n",
    "            if len(results.multi_hand_landmarks) == 2:\n",
    "                write_to_csv(results, csv_path, category)\n",
    "                            \n",
    "            if len(results.multi_hand_landmarks) < 2:\n",
    "                print('NOT WRITING')\n",
    "            \n",
    "            img = draw_landmarks(results, img)\n",
    "        \n",
    "        cv.imshow(\"image\", img)\n",
    "\n",
    "        if cv.waitKey(1) == 27:  # Press ESC to exit\n",
    "            break\n",
    "\n",
    "    cap.release()\n",
    "    cv.destroyAllWindows()"
   ]
  },
  {
   "cell_type": "code",
   "execution_count": 55,
   "metadata": {},
   "outputs": [
    {
     "name": "stdout",
     "output_type": "stream",
     "text": [
      "STARTING\n",
      "NOT WRITING\n",
      "NOT WRITING\n",
      "NOT WRITING\n",
      "NOT WRITING\n",
      "NOT WRITING\n",
      "NOT WRITING\n",
      "NOT WRITING\n",
      "NOT WRITING\n",
      "NOT WRITING\n",
      "NOT WRITING\n",
      "NOT WRITING\n",
      "NOT WRITING\n",
      "NOT WRITING\n",
      "NOT WRITING\n",
      "NOT WRITING\n",
      "NOT WRITING\n",
      "NOT WRITING\n",
      "NOT WRITING\n",
      "NOT WRITING\n",
      "NOT WRITING\n",
      "NOT WRITING\n",
      "NOT WRITING\n",
      "NOT WRITING\n",
      "NOT WRITING\n"
     ]
    }
   ],
   "source": [
    "# collecting data for steering position\n",
    "log_data('Data\\steering.csv', 0)"
   ]
  }
 ],
 "metadata": {
  "kernelspec": {
   "display_name": "Python 3",
   "language": "python",
   "name": "python3"
  },
  "language_info": {
   "codemirror_mode": {
    "name": "ipython",
    "version": 3
   },
   "file_extension": ".py",
   "mimetype": "text/x-python",
   "name": "python",
   "nbconvert_exporter": "python",
   "pygments_lexer": "ipython3",
   "version": "3.11.4"
  },
  "orig_nbformat": 4
 },
 "nbformat": 4,
 "nbformat_minor": 2
}
