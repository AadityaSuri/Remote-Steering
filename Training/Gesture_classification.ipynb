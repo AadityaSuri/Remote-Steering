{
 "cells": [
  {
   "cell_type": "code",
   "execution_count": 3,
   "metadata": {},
   "outputs": [
    {
     "name": "stdout",
     "output_type": "stream",
     "text": [
      "Requirement already satisfied: scikit-learn in c:\\users\\aadit\\appdata\\local\\programs\\python\\python311\\lib\\site-packages (1.3.0)\n",
      "Requirement already satisfied: numpy>=1.17.3 in c:\\users\\aadit\\appdata\\local\\programs\\python\\python311\\lib\\site-packages (from scikit-learn) (1.24.3)\n",
      "Requirement already satisfied: scipy>=1.5.0 in c:\\users\\aadit\\appdata\\local\\programs\\python\\python311\\lib\\site-packages (from scikit-learn) (1.11.1)\n",
      "Requirement already satisfied: joblib>=1.1.1 in c:\\users\\aadit\\appdata\\local\\programs\\python\\python311\\lib\\site-packages (from scikit-learn) (1.3.1)\n",
      "Requirement already satisfied: threadpoolctl>=2.0.0 in c:\\users\\aadit\\appdata\\local\\programs\\python\\python311\\lib\\site-packages (from scikit-learn) (3.2.0)\n",
      "Collecting torch\n",
      "  Downloading torch-2.0.1-cp311-cp311-win_amd64.whl (172.3 MB)\n",
      "     ---------------------------------------- 0.0/172.3 MB ? eta -:--:--\n",
      "     --------------------------------------- 0.8/172.3 MB 24.1 MB/s eta 0:00:08\n",
      "     --------------------------------------- 1.6/172.3 MB 20.5 MB/s eta 0:00:09\n",
      "      -------------------------------------- 2.7/172.3 MB 21.9 MB/s eta 0:00:08\n",
      "      -------------------------------------- 4.4/172.3 MB 25.5 MB/s eta 0:00:07\n",
      "     - ------------------------------------- 6.7/172.3 MB 30.6 MB/s eta 0:00:06\n",
      "     -- ------------------------------------ 9.6/172.3 MB 36.2 MB/s eta 0:00:05\n",
      "     --- ---------------------------------- 13.7/172.3 MB 65.6 MB/s eta 0:00:03\n",
      "     --- ---------------------------------- 17.7/172.3 MB 81.8 MB/s eta 0:00:02\n",
      "     ---- --------------------------------- 20.7/172.3 MB 81.8 MB/s eta 0:00:02\n",
      "     ----- -------------------------------- 24.4/172.3 MB 81.8 MB/s eta 0:00:02\n",
      "     ------ ------------------------------- 28.1/172.3 MB 81.8 MB/s eta 0:00:02\n",
      "     ------ ------------------------------- 31.5/172.3 MB 81.8 MB/s eta 0:00:02\n",
      "     ------- ------------------------------ 33.6/172.3 MB 81.8 MB/s eta 0:00:02\n",
      "     ------- ------------------------------ 34.8/172.3 MB 59.5 MB/s eta 0:00:03\n",
      "     -------- ----------------------------- 38.7/172.3 MB 59.5 MB/s eta 0:00:03\n",
      "     --------- ---------------------------- 42.8/172.3 MB 59.5 MB/s eta 0:00:03\n",
      "     ---------- --------------------------- 46.2/172.3 MB 81.8 MB/s eta 0:00:02\n",
      "     ----------- -------------------------- 49.9/172.3 MB 81.8 MB/s eta 0:00:02\n",
      "     ----------- -------------------------- 53.0/172.3 MB 72.6 MB/s eta 0:00:02\n",
      "     ------------ ------------------------- 56.1/172.3 MB 72.6 MB/s eta 0:00:02\n",
      "     ------------- ------------------------ 59.2/172.3 MB 65.6 MB/s eta 0:00:02\n",
      "     ------------- ------------------------ 62.1/172.3 MB 65.6 MB/s eta 0:00:02\n",
      "     -------------- ----------------------- 65.2/172.3 MB 65.6 MB/s eta 0:00:02\n",
      "     --------------- ---------------------- 68.0/172.3 MB 65.6 MB/s eta 0:00:02\n",
      "     --------------- ---------------------- 70.5/172.3 MB 65.6 MB/s eta 0:00:02\n",
      "     ---------------- --------------------- 73.9/172.3 MB 65.6 MB/s eta 0:00:02\n",
      "     ----------------- -------------------- 77.6/172.3 MB 65.2 MB/s eta 0:00:02\n",
      "     ----------------- -------------------- 80.8/172.3 MB 72.6 MB/s eta 0:00:02\n",
      "     ------------------ ------------------- 84.0/172.3 MB 73.1 MB/s eta 0:00:02\n",
      "     ------------------- ------------------ 86.9/172.3 MB 65.6 MB/s eta 0:00:02\n",
      "     ------------------- ------------------ 90.2/172.3 MB 65.6 MB/s eta 0:00:02\n",
      "     -------------------- ----------------- 92.7/172.3 MB 59.5 MB/s eta 0:00:02\n",
      "     --------------------- ---------------- 96.5/172.3 MB 65.6 MB/s eta 0:00:02\n",
      "     --------------------- --------------- 100.5/172.3 MB 72.6 MB/s eta 0:00:01\n",
      "     ---------------------- -------------- 104.4/172.3 MB 81.8 MB/s eta 0:00:01\n",
      "     ----------------------- ------------- 108.0/172.3 MB 81.8 MB/s eta 0:00:01\n",
      "     ----------------------- ------------- 111.6/172.3 MB 81.8 MB/s eta 0:00:01\n",
      "     ------------------------ ------------ 115.9/172.3 MB 81.8 MB/s eta 0:00:01\n",
      "     ------------------------- ----------- 119.6/172.3 MB 81.8 MB/s eta 0:00:01\n",
      "     -------------------------- ---------- 122.6/172.3 MB 81.8 MB/s eta 0:00:01\n",
      "     -------------------------- ---------- 125.6/172.3 MB 72.6 MB/s eta 0:00:01\n",
      "     --------------------------- --------- 129.0/172.3 MB 65.6 MB/s eta 0:00:01\n",
      "     ---------------------------- -------- 131.3/172.3 MB 65.2 MB/s eta 0:00:01\n",
      "     ---------------------------- -------- 134.2/172.3 MB 59.5 MB/s eta 0:00:01\n",
      "     ----------------------------- ------- 137.6/172.3 MB 65.6 MB/s eta 0:00:01\n",
      "     ------------------------------ ------ 141.5/172.3 MB 73.1 MB/s eta 0:00:01\n",
      "     ------------------------------- ----- 144.9/172.3 MB 81.8 MB/s eta 0:00:01\n",
      "     ------------------------------- ----- 148.3/172.3 MB 72.6 MB/s eta 0:00:01\n",
      "     ------------------------------- ----- 148.9/172.3 MB 72.6 MB/s eta 0:00:01\n",
      "     -------------------------------- ---- 151.8/172.3 MB 54.4 MB/s eta 0:00:01\n",
      "     --------------------------------- --- 154.9/172.3 MB 54.4 MB/s eta 0:00:01\n",
      "     --------------------------------- --- 157.8/172.3 MB 50.1 MB/s eta 0:00:01\n",
      "     ---------------------------------- -- 160.2/172.3 MB 59.8 MB/s eta 0:00:01\n",
      "     ---------------------------------- -- 163.0/172.3 MB 59.5 MB/s eta 0:00:01\n",
      "     ----------------------------------- - 166.5/172.3 MB 59.5 MB/s eta 0:00:01\n",
      "     ------------------------------------  169.9/172.3 MB 65.6 MB/s eta 0:00:01\n",
      "     ------------------------------------  172.3/172.3 MB 73.1 MB/s eta 0:00:01\n",
      "     ------------------------------------  172.3/172.3 MB 73.1 MB/s eta 0:00:01\n",
      "     ------------------------------------  172.3/172.3 MB 73.1 MB/s eta 0:00:01\n",
      "     ------------------------------------  172.3/172.3 MB 73.1 MB/s eta 0:00:01\n",
      "     ------------------------------------  172.3/172.3 MB 73.1 MB/s eta 0:00:01\n",
      "     ------------------------------------  172.3/172.3 MB 73.1 MB/s eta 0:00:01\n",
      "     ------------------------------------  172.3/172.3 MB 73.1 MB/s eta 0:00:01\n",
      "     ------------------------------------  172.3/172.3 MB 73.1 MB/s eta 0:00:01\n",
      "     ------------------------------------  172.3/172.3 MB 73.1 MB/s eta 0:00:01\n",
      "     ------------------------------------  172.3/172.3 MB 73.1 MB/s eta 0:00:01\n",
      "     ------------------------------------  172.3/172.3 MB 73.1 MB/s eta 0:00:01\n",
      "     ------------------------------------  172.3/172.3 MB 73.1 MB/s eta 0:00:01\n",
      "     ------------------------------------  172.3/172.3 MB 73.1 MB/s eta 0:00:01\n",
      "     ------------------------------------  172.3/172.3 MB 73.1 MB/s eta 0:00:01\n",
      "     ------------------------------------  172.3/172.3 MB 73.1 MB/s eta 0:00:01\n",
      "     -------------------------------------- 172.3/172.3 MB 8.4 MB/s eta 0:00:00\n",
      "Collecting filelock (from torch)\n",
      "  Obtaining dependency information for filelock from https://files.pythonhosted.org/packages/00/45/ec3407adf6f6b5bf867a4462b2b0af27597a26bd3cd6e2534cb6ab029938/filelock-3.12.2-py3-none-any.whl.metadata\n",
      "  Downloading filelock-3.12.2-py3-none-any.whl.metadata (2.7 kB)\n",
      "Requirement already satisfied: typing-extensions in c:\\users\\aadit\\appdata\\local\\programs\\python\\python311\\lib\\site-packages (from torch) (4.5.0)\n",
      "Collecting sympy (from torch)\n",
      "  Downloading sympy-1.12-py3-none-any.whl (5.7 MB)\n",
      "     ---------------------------------------- 0.0/5.7 MB ? eta -:--:--\n",
      "     ---------------------- ----------------- 3.2/5.7 MB 103.7 MB/s eta 0:00:01\n",
      "     ---------------------------------------  5.7/5.7 MB 92.3 MB/s eta 0:00:01\n",
      "     ---------------------------------------- 5.7/5.7 MB 61.6 MB/s eta 0:00:00\n",
      "Collecting networkx (from torch)\n",
      "  Downloading networkx-3.1-py3-none-any.whl (2.1 MB)\n",
      "     ---------------------------------------- 0.0/2.1 MB ? eta -:--:--\n",
      "     ---------------------------------------  2.1/2.1 MB 66.4 MB/s eta 0:00:01\n",
      "     ---------------------------------------- 2.1/2.1 MB 44.8 MB/s eta 0:00:00\n",
      "Collecting jinja2 (from torch)\n",
      "  Downloading Jinja2-3.1.2-py3-none-any.whl (133 kB)\n",
      "     ---------------------------------------- 0.0/133.1 kB ? eta -:--:--\n",
      "     ---------------------------------------- 133.1/133.1 kB ? eta 0:00:00\n",
      "Collecting MarkupSafe>=2.0 (from jinja2->torch)\n",
      "  Obtaining dependency information for MarkupSafe>=2.0 from https://files.pythonhosted.org/packages/be/bb/08b85bc194034efbf572e70c3951549c8eca0ada25363afc154386b5390a/MarkupSafe-2.1.3-cp311-cp311-win_amd64.whl.metadata\n",
      "  Downloading MarkupSafe-2.1.3-cp311-cp311-win_amd64.whl.metadata (3.1 kB)\n",
      "Collecting mpmath>=0.19 (from sympy->torch)\n",
      "  Downloading mpmath-1.3.0-py3-none-any.whl (536 kB)\n",
      "     ---------------------------------------- 0.0/536.2 kB ? eta -:--:--\n",
      "     ------------------------------------- 536.2/536.2 kB 32.9 MB/s eta 0:00:00\n",
      "Downloading filelock-3.12.2-py3-none-any.whl (10 kB)\n",
      "Using cached MarkupSafe-2.1.3-cp311-cp311-win_amd64.whl (17 kB)\n",
      "Installing collected packages: mpmath, sympy, networkx, MarkupSafe, filelock, jinja2, torch\n",
      "Successfully installed MarkupSafe-2.1.3 filelock-3.12.2 jinja2-3.1.2 mpmath-1.3.0 networkx-3.1 sympy-1.12 torch-2.0.1\n"
     ]
    }
   ],
   "source": [
    "import sys\n",
    "!{sys.executable} -m pip install scikit-learn\n",
    "!{sys.executable} -m pip install torch\n"
   ]
  },
  {
   "cell_type": "code",
   "execution_count": 2,
   "metadata": {},
   "outputs": [],
   "source": [
    "import numpy as np\n",
    "import pandas as pd\n",
    "\n",
    "import torch\n",
    "from sklearn.model_selection import train_test_split"
   ]
  },
  {
   "cell_type": "code",
   "execution_count": 3,
   "metadata": {},
   "outputs": [
    {
     "name": "stdout",
     "output_type": "stream",
     "text": [
      "      L_0_x  L_0_y         L_0_z     L_1_x     L_1_y     L_1_z     L_2_x  \\\n",
      "279     0.0    0.0  5.845587e-08  0.248169  0.375142 -0.016016  0.276026   \n",
      "981     0.0    0.0 -4.246240e-08  0.092241  0.775097 -0.031513  0.088584   \n",
      "173     0.0    0.0 -1.782735e-07  0.151184  0.527837 -0.022024  0.152365   \n",
      "1177    0.0    0.0  9.136102e-08  0.299021  0.546656 -0.021184  0.333685   \n",
      "2078    0.0    0.0  3.707844e-07  0.345660  0.663098 -0.021745  0.378722   \n",
      "...     ...    ...           ...       ...       ...       ...       ...   \n",
      "985     0.0    0.0 -5.413005e-08  0.101401  0.706725 -0.033112  0.098467   \n",
      "1826    0.0    0.0  3.918264e-07  0.343672  0.692078 -0.026672  0.364453   \n",
      "2907    0.0    0.0 -1.661413e-07  0.732036  0.514298 -0.001946  0.740450   \n",
      "211     0.0    0.0  1.083475e-08  0.214443  0.655108 -0.032342  0.227498   \n",
      "1254    0.0    0.0 -2.804477e-08  0.250610  0.593589 -0.021468  0.272521   \n",
      "\n",
      "         L_2_y     L_2_z     L_3_x  ...    R_17_z    R_18_x    R_18_y  \\\n",
      "279   0.306307 -0.037223  0.302315  ... -0.024968  0.651541  0.813471   \n",
      "981   0.719953 -0.057388  0.107296  ... -0.057795  0.805747  0.529116   \n",
      "173   0.443761 -0.040252  0.155239  ... -0.046707  0.834208  0.750081   \n",
      "1177  0.488351 -0.044526  0.370056  ... -0.035865  0.732379  0.852639   \n",
      "2078  0.630583 -0.034493  0.400235  ... -0.035959  0.713520  0.469019   \n",
      "...        ...       ...       ...  ...       ...       ...       ...   \n",
      "985   0.653737 -0.060354  0.117189  ... -0.058916  0.823398  0.583451   \n",
      "1826  0.640178 -0.040385  0.378432  ... -0.039638  0.787481  0.610079   \n",
      "2907  0.487188 -0.003474  0.737972  ... -0.020077  0.399562  0.471495   \n",
      "211   0.573535 -0.060398  0.249559  ... -0.066293  0.655078  0.780715   \n",
      "1254  0.530261 -0.040923  0.299120  ... -0.054323  0.757829  0.777158   \n",
      "\n",
      "        R_18_z    R_19_x    R_19_y    R_19_z    R_20_x    R_20_y    R_20_z  \n",
      "279  -0.036662  0.662322  0.806358 -0.026859  0.689427  0.810949 -0.014127  \n",
      "981  -0.073802  0.806451  0.522103 -0.069569  0.827407  0.501441 -0.063137  \n",
      "173  -0.063392  0.816647  0.729024 -0.062757  0.826388  0.720011 -0.059101  \n",
      "1177 -0.053740  0.715797  0.842019 -0.051464  0.731741  0.840211 -0.046735  \n",
      "2078 -0.045925  0.714190  0.429318 -0.050409  0.713249  0.392470 -0.054004  \n",
      "...        ...       ...       ...       ...       ...       ...       ...  \n",
      "985  -0.074137  0.825014  0.576076 -0.069966  0.846926  0.558696 -0.064094  \n",
      "1826 -0.056963  0.810980  0.589448 -0.065697  0.830845  0.568474 -0.071608  \n",
      "2907 -0.019878  0.396317  0.483609 -0.015040  0.393580  0.492041 -0.011256  \n",
      "211  -0.090173  0.621823  0.769051 -0.086648  0.628738  0.752157 -0.081347  \n",
      "1254 -0.073340  0.734404  0.770063 -0.071039  0.744892  0.759884 -0.067341  \n",
      "\n",
      "[2069 rows x 126 columns]\n",
      "279     0\n",
      "981     0\n",
      "173     0\n",
      "1177    0\n",
      "2078    1\n",
      "       ..\n",
      "985     0\n",
      "1826    1\n",
      "2907    2\n",
      "211     0\n",
      "1254    0\n",
      "Name: CATEGORY, Length: 2069, dtype: int64\n"
     ]
    }
   ],
   "source": [
    "dataset = pd.read_csv('Data/all_data.csv')\n",
    "\n",
    "#subtract the columns L_0_x, L_0_y, L_0_z from all the columns\n",
    "for i in range(0, 21):\n",
    "    dataset[f'L_{i}_x'] = dataset[f'L_{i}_x'] - dataset['L_0_x']\n",
    "    dataset[f'L_{i}_y'] = dataset[f'L_{i}_y'] - dataset['L_0_y']\n",
    "    # dataset[f'L_{i}_z'] = dataset[f'L_{i}_z'] - dataset['L_0_z']\n",
    "    dataset[f'R_{i}_x'] = dataset[f'R_{i}_x'] - dataset['R_0_x']\n",
    "    dataset[f'R_{i}_y'] = dataset[f'R_{i}_y'] - dataset['R_0_y']\n",
    "    # dataset[f'R_{i}_z'] = dataset[f'R_{i}_z'] - dataset['R_0_z']\n",
    "\n",
    "#write datatset to csv\n",
    "dataset.to_csv('Data/relative_data.csv', index=False)\n",
    "\n",
    "X = dataset.iloc[:, 1:]\n",
    "Y = dataset.iloc[:, 0]\n",
    "\n",
    "# Splitting the dataset into the Training set and Test set\n",
    "X_train, X_test, Y_train, Y_test = train_test_split(X, Y, test_size = 0.3)\n",
    "\n",
    "# # Feature Scaling\n",
    "# from sklearn.preprocessing import StandardScaler\n",
    "# sc = StandardScaler()\n",
    "# X_train = sc.fit_transform(X_train)\n",
    "# X_test = sc.transform(X_test)\n",
    "\n",
    "print(X_train)\n",
    "print(Y_train)\n"
   ]
  },
  {
   "cell_type": "code",
   "execution_count": 4,
   "metadata": {},
   "outputs": [],
   "source": [
    "X_train_tensor = torch.tensor(X_train.values).float()\n",
    "X_test_tensor = torch.tensor(X_test.values).float()\n",
    "Y_train_tensor = torch.tensor(Y_train.values).long()\n",
    "Y_test_tensor = torch.tensor(Y_test.values).long()"
   ]
  },
  {
   "cell_type": "code",
   "execution_count": 38,
   "metadata": {},
   "outputs": [
    {
     "name": "stdout",
     "output_type": "stream",
     "text": [
      "torch.Size([2069, 126])\n",
      "torch.Size([2069])\n"
     ]
    }
   ],
   "source": [
    "print(X_train_tensor.shape)\n",
    "print(Y_train_tensor.shape)\n"
   ]
  },
  {
   "cell_type": "code",
   "execution_count": 5,
   "metadata": {},
   "outputs": [],
   "source": [
    "batch_size = 64\n",
    "n_iters = 15000\n",
    "num_epochs = n_iters / (len(X_train) / batch_size)\n",
    "num_epochs = int(num_epochs)\n",
    "\n",
    "# Pytorch train and test sets\n",
    "train = torch.utils.data.TensorDataset(X_train_tensor,Y_train_tensor)\n",
    "test = torch.utils.data.TensorDataset(X_test_tensor,Y_test_tensor)\n",
    "\n",
    "# data loader\n",
    "train_loader = torch.utils.data.DataLoader(train, batch_size = batch_size, shuffle = True)\n",
    "test_loader = torch.utils.data.DataLoader(test, batch_size = batch_size, shuffle = False)"
   ]
  },
  {
   "cell_type": "code",
   "execution_count": 6,
   "metadata": {},
   "outputs": [],
   "source": [
    "class GestureFNN(torch.nn.Module):\n",
    "    def __init__(self, input_dim, hidden_dim, output_dim):\n",
    "        super(GestureFNN, self).__init__()\n",
    "        # Linear function 1: 126 --> 84\n",
    "        self.fc1 = torch.nn.Linear(input_dim, hidden_dim)\n",
    "\n",
    "        # Non-linearity 1\n",
    "        self.sigmoid = torch.nn.Sigmoid()\n",
    "\n",
    "        # Linear function 2: 84 --> 3\n",
    "        self.fc2 = torch.nn.Linear(hidden_dim, output_dim)\n",
    "\n",
    "    def forward(self, x):\n",
    "        # Linear function 1\n",
    "        out = self.fc1(x)\n",
    "\n",
    "        # Non-linearity 1\n",
    "        out = self.sigmoid(out)\n",
    "\n",
    "        # Linear function 2 (readout)\n",
    "        out = self.fc2(out)\n",
    "        return out\n",
    "\n"
   ]
  },
  {
   "cell_type": "code",
   "execution_count": 7,
   "metadata": {},
   "outputs": [],
   "source": [
    "model = GestureFNN(input_dim=126, hidden_dim=84, output_dim=3)\n",
    "\n",
    "critereon = torch.nn.CrossEntropyLoss()\n",
    "learning_rate = 0.1\n",
    "optimizer = torch.optim.SGD(model.parameters(), lr=learning_rate)"
   ]
  },
  {
   "cell_type": "code",
   "execution_count": 8,
   "metadata": {},
   "outputs": [
    {
     "name": "stdout",
     "output_type": "stream",
     "text": [
      "Iteration: 500. Loss: 0.3300841748714447. Accuracy: 87.26042938232422\n",
      "Iteration: 1000. Loss: 0.19099213182926178. Accuracy: 95.94137573242188\n",
      "Iteration: 1500. Loss: 0.12833276391029358. Accuracy: 95.60315704345703\n",
      "Iteration: 2000. Loss: 0.06235699728131294. Accuracy: 95.8286361694336\n",
      "Iteration: 2500. Loss: 0.06539532542228699. Accuracy: 95.94137573242188\n",
      "Iteration: 3000. Loss: 0.03678342327475548. Accuracy: 96.16685485839844\n",
      "Iteration: 3500. Loss: 0.06290788948535919. Accuracy: 96.16685485839844\n",
      "Iteration: 4000. Loss: 0.060139045119285583. Accuracy: 96.50507354736328\n",
      "Iteration: 4500. Loss: 0.048772767186164856. Accuracy: 96.73055267333984\n",
      "Iteration: 5000. Loss: 0.05378871411085129. Accuracy: 96.9560317993164\n",
      "Iteration: 5500. Loss: 0.03839368745684624. Accuracy: 97.40699005126953\n",
      "Iteration: 6000. Loss: 0.022603070363402367. Accuracy: 97.29425048828125\n",
      "Iteration: 6500. Loss: 0.0159478560090065. Accuracy: 97.40699005126953\n",
      "Iteration: 7000. Loss: 0.047787416726350784. Accuracy: 97.51972961425781\n",
      "Iteration: 7500. Loss: 0.022953126579523087. Accuracy: 97.51972961425781\n",
      "Iteration: 8000. Loss: 0.015435579232871532. Accuracy: 98.08342742919922\n",
      "Iteration: 8500. Loss: 0.06672553718090057. Accuracy: 97.6324691772461\n",
      "Iteration: 9000. Loss: 0.06736960262060165. Accuracy: 98.08342742919922\n",
      "Iteration: 9500. Loss: 0.05732966586947441. Accuracy: 97.85794830322266\n",
      "Iteration: 10000. Loss: 0.03904144838452339. Accuracy: 98.30890655517578\n",
      "Iteration: 10500. Loss: 0.06001653894782066. Accuracy: 98.08342742919922\n",
      "Iteration: 11000. Loss: 0.07138676196336746. Accuracy: 98.30890655517578\n",
      "Iteration: 11500. Loss: 0.027114510536193848. Accuracy: 98.08342742919922\n",
      "Iteration: 12000. Loss: 0.02457398734986782. Accuracy: 98.30890655517578\n",
      "Iteration: 12500. Loss: 0.03310661390423775. Accuracy: 98.53438568115234\n",
      "Iteration: 13000. Loss: 0.00872225034981966. Accuracy: 98.87260437011719\n",
      "Iteration: 13500. Loss: 0.010011655278503895. Accuracy: 98.87260437011719\n",
      "Iteration: 14000. Loss: 0.022294199094176292. Accuracy: 99.21082305908203\n",
      "Iteration: 14500. Loss: 0.01935495249927044. Accuracy: 99.09808349609375\n",
      "Iteration: 15000. Loss: 0.01650390774011612. Accuracy: 98.87260437011719\n"
     ]
    }
   ],
   "source": [
    "iter = 0\n",
    "accuracy_list = []\n",
    "loss_list = []\n",
    "for epoch in range(num_epochs):\n",
    "    for i, (landmarks, labels) in enumerate(train_loader):\n",
    "\n",
    "        lanmarks = landmarks.view(-1, 126).requires_grad_()\n",
    "\n",
    "        optimizer.zero_grad()\n",
    "\n",
    "        outputs = model(landmarks)\n",
    "\n",
    "        loss = critereon(outputs, labels)\n",
    "\n",
    "        loss.backward()\n",
    "\n",
    "        optimizer.step()\n",
    "\n",
    "        iter += 1\n",
    "\n",
    "        if iter % 500 == 0:\n",
    "            correct = 0\n",
    "            total = 0\n",
    "            for landmarks, labels in test_loader:\n",
    "                landmarks = landmarks.view(-1, 126).requires_grad_()\n",
    "\n",
    "                outputs = model(landmarks)\n",
    "\n",
    "                _, predicted = torch.max(outputs.data, 1)\n",
    "\n",
    "                total += labels.size(0)\n",
    "\n",
    "                correct += (predicted == labels).sum()\n",
    "\n",
    "            accuracy = 100 * correct / total\n",
    "            accuracy_list.append(accuracy)\n",
    "            loss_list.append(loss.item())\n",
    "\n",
    "            print('Iteration: {}. Loss: {}. Accuracy: {}'.format(iter, loss.item(), accuracy))"
   ]
  },
  {
   "cell_type": "code",
   "execution_count": 9,
   "metadata": {},
   "outputs": [
    {
     "data": {
      "image/png": "[encoded data removed]",
      "text/plain": [
       "<Figure size 640x480 with 1 Axes>"
      ]
     },
     "metadata": {},
     "output_type": "display_data"
    },
    {
     "data": {
      "image/png": "[encoded data removed]",
      "text/plain": [
       "<Figure size 640x480 with 1 Axes>"
      ]
     },
     "metadata": {},
     "output_type": "display_data"
    }
   ],
   "source": [
    "# plot accuracy and loss seaborn\n",
    "import seaborn as sns\n",
    "import matplotlib.pyplot as plt\n",
    "\n",
    "# sns.set_style(\"darkgrid\")\n",
    "# plt.plot(loss_list, label=\"Loss\")\n",
    "plt.plot(accuracy_list, label=\"Accuracy\")\n",
    "plt.legend()\n",
    "plt.show()\n",
    "\n",
    "# plot the loss\n",
    "plt.plot(loss_list, label=\"Loss\")\n",
    "plt.legend()\n",
    "plt.show()\n"
   ]
  },
  {
   "cell_type": "code",
   "execution_count": 58,
   "metadata": {},
   "outputs": [],
   "source": [
    "# save the model\n",
    "torch.save(model.state_dict(), 'Model/model.pth')"
   ]
  },
  {
   "cell_type": "code",
   "execution_count": 12,
   "metadata": {},
   "outputs": [
    {
     "name": "stdout",
     "output_type": "stream",
     "text": [
      "tensor([0, 0, 0, 2, 0, 0, 0, 2, 2, 1, 1, 1, 1, 0, 0, 2, 0, 2, 2, 2, 0, 0, 2, 1,\n",
      "        0, 1, 2, 0, 0, 0, 0, 1, 0, 0, 0, 0, 2, 1, 1, 0, 0, 0, 2, 0, 2, 1, 0, 2,\n",
      "        2, 0, 0, 0, 0, 2, 0, 1, 0, 0, 1, 0, 0, 1, 1, 2])\n",
      "tensor([0, 2, 2, 0, 1, 1, 1, 0, 0, 2, 0, 1, 0, 0, 0, 1, 0, 2, 0, 0, 1, 2, 1, 1,\n",
      "        0, 1, 0, 0, 1, 1, 0, 2, 2, 2, 0, 2, 1, 0, 2, 0, 0, 2, 0, 2, 1, 2, 1, 1,\n",
      "        0, 0, 0, 0, 1, 0, 2, 0, 0, 2, 2, 1, 1, 0, 0, 1])\n",
      "tensor([0, 1, 0, 1, 1, 0, 1, 0, 1, 0, 2, 0, 0, 0, 1, 0, 0, 1, 0, 1, 1, 0, 2, 0,\n",
      "        1, 1, 0, 1, 1, 2, 2, 1, 0, 1, 1, 0, 0, 0, 0, 2, 0, 0, 2, 1, 1, 1, 0, 2,\n",
      "        0, 0, 0, 1, 0, 0, 1, 0, 2, 2, 0, 1, 2, 1, 1, 1])\n",
      "tensor([0, 2, 2, 0, 1, 2, 0, 1, 1, 1, 0, 0, 0, 2, 1, 1, 0, 1, 1, 0, 0, 1, 1, 1,\n",
      "        1, 0, 1, 1, 0, 2, 1, 1, 0, 0, 2, 1, 2, 2, 1, 1, 1, 0, 1, 0, 1, 2, 2, 0,\n",
      "        2, 1, 2, 0, 0, 0, 0, 0, 2, 2, 0, 2, 2, 1, 0, 2])\n",
      "tensor([0, 0, 2, 0, 0, 1, 0, 0, 2, 2, 1, 2, 0, 1, 0, 0, 0, 0, 1, 2, 1, 0, 1, 0,\n",
      "        1, 0, 1, 1, 1, 1, 0, 0, 0, 0, 1, 2, 1, 1, 0, 0, 1, 2, 1, 1, 2, 0, 0, 2,\n",
      "        0, 0, 0, 2, 1, 1, 1, 2, 1, 2, 0, 1, 0, 0, 1, 0])\n",
      "tensor([0, 2, 0, 0, 2, 2, 0, 0, 1, 2, 1, 1, 1, 1, 2, 1, 0, 2, 1, 2, 2, 0, 0, 2,\n",
      "        1, 2, 0, 0, 1, 0, 0, 1, 1, 1, 2, 1, 1, 1, 0, 2, 2, 2, 0, 0, 2, 1, 2, 2,\n",
      "        2, 1, 0, 0, 2, 0, 0, 1, 2, 0, 0, 0, 1, 1, 0, 0])\n",
      "tensor([0, 0, 1, 2, 0, 0, 1, 1, 1, 2, 0, 0, 0, 2, 0, 0, 1, 0, 2, 0, 2, 0, 0, 0,\n",
      "        2, 2, 0, 1, 0, 1, 0, 0, 1, 0, 2, 0, 2, 0, 0, 1, 2, 0, 1, 0, 1, 0, 2, 0,\n",
      "        0, 0, 0, 0, 0, 0, 1, 0, 2, 0, 0, 1, 1, 0, 1, 1])\n",
      "tensor([0, 2, 1, 1, 1, 0, 0, 2, 0, 0, 0, 1, 2, 0, 1, 1, 0, 0, 0, 0, 0, 0, 1, 0,\n",
      "        1, 0, 0, 0, 0, 1, 0, 2, 1, 1, 0, 1, 1, 1, 0, 1, 0, 1, 0, 1, 0, 2, 1, 0,\n",
      "        0, 0, 2, 2, 0, 0, 1, 0, 1, 0, 1, 2, 2, 1, 2, 1])\n",
      "tensor([0, 0, 0, 1, 1, 0, 1, 0, 1, 2, 0, 2, 0, 0, 2, 0, 1, 0, 1, 0, 1, 0, 1, 0,\n",
      "        2, 0, 2, 1, 1, 0, 0, 0, 0, 0, 0, 0, 2, 0, 2, 2, 1, 1, 1, 0, 0, 2, 0, 0,\n",
      "        0, 1, 0, 2, 0, 1, 1, 2, 0, 0, 0, 0, 0, 1, 0, 1])\n",
      "tensor([1, 2, 0, 0, 0, 0, 0, 0, 2, 0, 1, 2, 1, 0, 1, 2, 1, 0, 2, 2, 2, 0, 0, 0,\n",
      "        1, 2, 0, 0, 1, 0, 2, 0, 1, 1, 1, 2, 0, 2, 2, 2, 0, 0, 1, 2, 2, 0, 1, 1,\n",
      "        1, 1, 2, 1, 2, 1, 1, 0, 1, 2, 0, 1, 2, 1, 0, 0])\n",
      "tensor([0, 0, 1, 2, 0, 0, 2, 1, 0, 1, 2, 2, 0, 2, 2, 0, 0, 0, 0, 2, 0, 0, 0, 0,\n",
      "        2, 0, 0, 1, 2, 2, 1, 2, 0, 1, 0, 0, 0, 0, 0, 2, 0, 0, 2, 1, 1, 1, 2, 0,\n",
      "        2, 2, 1, 2, 1, 2, 0, 0, 2, 1, 1, 1, 1, 0, 1, 1])\n",
      "tensor([1, 2, 2, 1, 2, 1, 0, 0, 0, 2, 2, 2, 1, 0, 1, 1, 2, 1, 0, 0, 1, 2, 0, 1,\n",
      "        0, 0, 2, 0, 1, 0, 0, 0, 0, 0, 0, 2, 2, 1, 1, 1, 2, 0, 0, 0, 2, 1, 0, 1,\n",
      "        1, 0, 0, 1, 1, 0, 2, 0, 0, 0, 0, 1, 1, 0, 1, 2])\n",
      "tensor([2, 1, 0, 0, 0, 0, 2, 1, 0, 0, 2, 1, 2, 0, 1, 1, 1, 1, 0, 1, 2, 1, 2, 0,\n",
      "        1, 1, 2, 2, 0, 0, 0, 0, 0, 2, 0, 0, 1, 1, 1, 2, 2, 1, 2, 0, 2, 1, 0, 2,\n",
      "        0, 1, 1, 2, 1, 0, 0, 2, 0, 1, 1, 0, 1, 2, 1, 1])\n",
      "tensor([1, 2, 1, 0, 0, 0, 2, 1, 0, 2, 0, 2, 2, 0, 0, 0, 1, 2, 0, 0, 2, 0, 2, 0,\n",
      "        0, 0, 2, 1, 0, 0, 1, 0, 0, 1, 1, 2, 2, 2, 1, 2, 0, 1, 2, 2, 1, 0, 1, 0,\n",
      "        0, 2, 0, 0, 0, 1, 0])\n",
      "Accuracy of the model on the test set: 98.30890655517578\n"
     ]
    }
   ],
   "source": [
    "# test the model on the test set\n",
    "correct = 0\n",
    "total = 0\n",
    "for landmarks, labels in test_loader:\n",
    "    # landmarks = landmarks.view(-1, 126).requires_grad_()\n",
    "\n",
    "    outputs = model(landmarks)\n",
    "\n",
    "    _, predicted = torch.max(outputs.data, 1)\n",
    "\n",
    "    print(predicted)\n",
    "\n",
    "    total += labels.size(0)\n",
    "\n",
    "    correct += (predicted == labels).sum()\n",
    "\n",
    "accuracy = 100 * correct / total\n",
    "\n",
    "print('Accuracy of the model on the test set: {}'.format(accuracy))\n"
   ]
  },
  {
   "cell_type": "code",
   "execution_count": 33,
   "metadata": {},
   "outputs": [
    {
     "name": "stdout",
     "output_type": "stream",
     "text": [
      "Collecting seaborn\n",
      "  Downloading seaborn-0.12.2-py3-none-any.whl (293 kB)\n",
      "     ---------------------------------------- 0.0/293.3 kB ? eta -:--:--\n",
      "     -------------------------------------  286.7/293.3 kB 8.9 MB/s eta 0:00:01\n",
      "     -------------------------------------- 293.3/293.3 kB 6.0 MB/s eta 0:00:00\n",
      "Requirement already satisfied: numpy!=1.24.0,>=1.17 in c:\\users\\aadit\\appdata\\local\\programs\\python\\python311\\lib\\site-packages (from seaborn) (1.24.3)\n",
      "Requirement already satisfied: pandas>=0.25 in c:\\users\\aadit\\appdata\\local\\programs\\python\\python311\\lib\\site-packages (from seaborn) (2.0.3)\n",
      "Requirement already satisfied: matplotlib!=3.6.1,>=3.1 in c:\\users\\aadit\\appdata\\local\\programs\\python\\python311\\lib\\site-packages (from seaborn) (3.7.2)\n",
      "Requirement already satisfied: contourpy>=1.0.1 in c:\\users\\aadit\\appdata\\local\\programs\\python\\python311\\lib\\site-packages (from matplotlib!=3.6.1,>=3.1->seaborn) (1.1.0)\n",
      "Requirement already satisfied: cycler>=0.10 in c:\\users\\aadit\\appdata\\local\\programs\\python\\python311\\lib\\site-packages (from matplotlib!=3.6.1,>=3.1->seaborn) (0.11.0)\n",
      "Requirement already satisfied: fonttools>=4.22.0 in c:\\users\\aadit\\appdata\\local\\programs\\python\\python311\\lib\\site-packages (from matplotlib!=3.6.1,>=3.1->seaborn) (4.40.0)\n",
      "Requirement already satisfied: kiwisolver>=1.0.1 in c:\\users\\aadit\\appdata\\local\\programs\\python\\python311\\lib\\site-packages (from matplotlib!=3.6.1,>=3.1->seaborn) (1.4.4)\n",
      "Requirement already satisfied: packaging>=20.0 in c:\\users\\aadit\\appdata\\roaming\\python\\python311\\site-packages (from matplotlib!=3.6.1,>=3.1->seaborn) (23.1)\n",
      "Requirement already satisfied: pillow>=6.2.0 in c:\\users\\aadit\\appdata\\local\\programs\\python\\python311\\lib\\site-packages (from matplotlib!=3.6.1,>=3.1->seaborn) (10.0.0)\n",
      "Requirement already satisfied: pyparsing<3.1,>=2.3.1 in c:\\users\\aadit\\appdata\\local\\programs\\python\\python311\\lib\\site-packages (from matplotlib!=3.6.1,>=3.1->seaborn) (3.0.9)\n",
      "Requirement already satisfied: python-dateutil>=2.7 in c:\\users\\aadit\\appdata\\roaming\\python\\python311\\site-packages (from matplotlib!=3.6.1,>=3.1->seaborn) (2.8.2)\n",
      "Requirement already satisfied: pytz>=2020.1 in c:\\users\\aadit\\appdata\\local\\programs\\python\\python311\\lib\\site-packages (from pandas>=0.25->seaborn) (2023.3)\n",
      "Requirement already satisfied: tzdata>=2022.1 in c:\\users\\aadit\\appdata\\local\\programs\\python\\python311\\lib\\site-packages (from pandas>=0.25->seaborn) (2023.3)\n",
      "Requirement already satisfied: six>=1.5 in c:\\users\\aadit\\appdata\\roaming\\python\\python311\\site-packages (from python-dateutil>=2.7->matplotlib!=3.6.1,>=3.1->seaborn) (1.16.0)\n",
      "Installing collected packages: seaborn\n",
      "Successfully installed seaborn-0.12.2\n"
     ]
    }
   ],
   "source": [
    "import sys\n",
    "!{sys.executable} -m pip install seaborn"
   ]
  },
  {
   "cell_type": "code",
   "execution_count": 11,
   "metadata": {},
   "outputs": [
    {
     "name": "stdout",
     "output_type": "stream",
     "text": [
      "[[26  0  0]\n",
      " [ 0 13  0]\n",
      " [ 0  0 16]]\n"
     ]
    },
    {
     "data": {
      "image/png": "[encoded data removed]",
      "text/plain": [
       "<Figure size 1000x1000 with 2 Axes>"
      ]
     },
     "metadata": {},
     "output_type": "display_data"
    }
   ],
   "source": [
    "# plot a graphical confusion matrix for the test set using matplotlib\n",
    "from sklearn.metrics import confusion_matrix\n",
    "import seaborn as sns\n",
    "\n",
    "cm = confusion_matrix(labels, predicted)\n",
    "print(cm)\n",
    "plt.figure(figsize=(10, 10))\n",
    "sns.heatmap(cm, annot=True, fmt=\".3f\", linewidths=.5, square=True, cmap='Blues_r')\n",
    "plt.ylabel('Actual label')\n",
    "plt.xlabel('Predicted label')\n",
    "all_sample_title = 'Accuracy Score: {0}'.format(accuracy)\n",
    "plt.title(all_sample_title, size=15)\n",
    "plt.show()\n",
    "\n"
   ]
  }
 ],
 "metadata": {
  "kernelspec": {
   "display_name": "Python 3",
   "language": "python",
   "name": "python3"
  },
  "language_info": {
   "codemirror_mode": {
    "name": "ipython",
    "version": 3
   },
   "file_extension": ".py",
   "mimetype": "text/x-python",
   "name": "python",
   "nbconvert_exporter": "python",
   "pygments_lexer": "ipython3",
   "version": "3.11.4"
  },
  "orig_nbformat": 4
 },
 "nbformat": 4,
 "nbformat_minor": 2
}
