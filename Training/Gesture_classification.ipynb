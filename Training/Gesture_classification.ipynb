{
 "cells": [
  {
   "cell_type": "code",
   "execution_count": 3,
   "metadata": {},
   "outputs": [
    {
     "name": "stdout",
     "output_type": "stream",
     "text": [
      "Requirement already satisfied: scikit-learn in c:\\users\\aadit\\appdata\\local\\programs\\python\\python311\\lib\\site-packages (1.3.0)\n",
      "Requirement already satisfied: numpy>=1.17.3 in c:\\users\\aadit\\appdata\\local\\programs\\python\\python311\\lib\\site-packages (from scikit-learn) (1.24.3)\n",
      "Requirement already satisfied: scipy>=1.5.0 in c:\\users\\aadit\\appdata\\local\\programs\\python\\python311\\lib\\site-packages (from scikit-learn) (1.11.1)\n",
      "Requirement already satisfied: joblib>=1.1.1 in c:\\users\\aadit\\appdata\\local\\programs\\python\\python311\\lib\\site-packages (from scikit-learn) (1.3.1)\n",
      "Requirement already satisfied: threadpoolctl>=2.0.0 in c:\\users\\aadit\\appdata\\local\\programs\\python\\python311\\lib\\site-packages (from scikit-learn) (3.2.0)\n",
      "Collecting torch\n",
      "  Downloading torch-2.0.1-cp311-cp311-win_amd64.whl (172.3 MB)\n",
      "     ---------------------------------------- 0.0/172.3 MB ? eta -:--:--\n",
      "     --------------------------------------- 0.8/172.3 MB 24.1 MB/s eta 0:00:08\n",
      "     --------------------------------------- 1.6/172.3 MB 20.5 MB/s eta 0:00:09\n",
      "      -------------------------------------- 2.7/172.3 MB 21.9 MB/s eta 0:00:08\n",
      "      -------------------------------------- 4.4/172.3 MB 25.5 MB/s eta 0:00:07\n",
      "     - ------------------------------------- 6.7/172.3 MB 30.6 MB/s eta 0:00:06\n",
      "     -- ------------------------------------ 9.6/172.3 MB 36.2 MB/s eta 0:00:05\n",
      "     --- ---------------------------------- 13.7/172.3 MB 65.6 MB/s eta 0:00:03\n",
      "     --- ---------------------------------- 17.7/172.3 MB 81.8 MB/s eta 0:00:02\n",
      "     ---- --------------------------------- 20.7/172.3 MB 81.8 MB/s eta 0:00:02\n",
      "     ----- -------------------------------- 24.4/172.3 MB 81.8 MB/s eta 0:00:02\n",
      "     ------ ------------------------------- 28.1/172.3 MB 81.8 MB/s eta 0:00:02\n",
      "     ------ ------------------------------- 31.5/172.3 MB 81.8 MB/s eta 0:00:02\n",
      "     ------- ------------------------------ 33.6/172.3 MB 81.8 MB/s eta 0:00:02\n",
      "     ------- ------------------------------ 34.8/172.3 MB 59.5 MB/s eta 0:00:03\n",
      "     -------- ----------------------------- 38.7/172.3 MB 59.5 MB/s eta 0:00:03\n",
      "     --------- ---------------------------- 42.8/172.3 MB 59.5 MB/s eta 0:00:03\n",
      "     ---------- --------------------------- 46.2/172.3 MB 81.8 MB/s eta 0:00:02\n",
      "     ----------- -------------------------- 49.9/172.3 MB 81.8 MB/s eta 0:00:02\n",
      "     ----------- -------------------------- 53.0/172.3 MB 72.6 MB/s eta 0:00:02\n",
      "     ------------ ------------------------- 56.1/172.3 MB 72.6 MB/s eta 0:00:02\n",
      "     ------------- ------------------------ 59.2/172.3 MB 65.6 MB/s eta 0:00:02\n",
      "     ------------- ------------------------ 62.1/172.3 MB 65.6 MB/s eta 0:00:02\n",
      "     -------------- ----------------------- 65.2/172.3 MB 65.6 MB/s eta 0:00:02\n",
      "     --------------- ---------------------- 68.0/172.3 MB 65.6 MB/s eta 0:00:02\n",
      "     --------------- ---------------------- 70.5/172.3 MB 65.6 MB/s eta 0:00:02\n",
      "     ---------------- --------------------- 73.9/172.3 MB 65.6 MB/s eta 0:00:02\n",
      "     ----------------- -------------------- 77.6/172.3 MB 65.2 MB/s eta 0:00:02\n",
      "     ----------------- -------------------- 80.8/172.3 MB 72.6 MB/s eta 0:00:02\n",
      "     ------------------ ------------------- 84.0/172.3 MB 73.1 MB/s eta 0:00:02\n",
      "     ------------------- ------------------ 86.9/172.3 MB 65.6 MB/s eta 0:00:02\n",
      "     ------------------- ------------------ 90.2/172.3 MB 65.6 MB/s eta 0:00:02\n",
      "     -------------------- ----------------- 92.7/172.3 MB 59.5 MB/s eta 0:00:02\n",
      "     --------------------- ---------------- 96.5/172.3 MB 65.6 MB/s eta 0:00:02\n",
      "     --------------------- --------------- 100.5/172.3 MB 72.6 MB/s eta 0:00:01\n",
      "     ---------------------- -------------- 104.4/172.3 MB 81.8 MB/s eta 0:00:01\n",
      "     ----------------------- ------------- 108.0/172.3 MB 81.8 MB/s eta 0:00:01\n",
      "     ----------------------- ------------- 111.6/172.3 MB 81.8 MB/s eta 0:00:01\n",
      "     ------------------------ ------------ 115.9/172.3 MB 81.8 MB/s eta 0:00:01\n",
      "     ------------------------- ----------- 119.6/172.3 MB 81.8 MB/s eta 0:00:01\n",
      "     -------------------------- ---------- 122.6/172.3 MB 81.8 MB/s eta 0:00:01\n",
      "     -------------------------- ---------- 125.6/172.3 MB 72.6 MB/s eta 0:00:01\n",
      "     --------------------------- --------- 129.0/172.3 MB 65.6 MB/s eta 0:00:01\n",
      "     ---------------------------- -------- 131.3/172.3 MB 65.2 MB/s eta 0:00:01\n",
      "     ---------------------------- -------- 134.2/172.3 MB 59.5 MB/s eta 0:00:01\n",
      "     ----------------------------- ------- 137.6/172.3 MB 65.6 MB/s eta 0:00:01\n",
      "     ------------------------------ ------ 141.5/172.3 MB 73.1 MB/s eta 0:00:01\n",
      "     ------------------------------- ----- 144.9/172.3 MB 81.8 MB/s eta 0:00:01\n",
      "     ------------------------------- ----- 148.3/172.3 MB 72.6 MB/s eta 0:00:01\n",
      "     ------------------------------- ----- 148.9/172.3 MB 72.6 MB/s eta 0:00:01\n",
      "     -------------------------------- ---- 151.8/172.3 MB 54.4 MB/s eta 0:00:01\n",
      "     --------------------------------- --- 154.9/172.3 MB 54.4 MB/s eta 0:00:01\n",
      "     --------------------------------- --- 157.8/172.3 MB 50.1 MB/s eta 0:00:01\n",
      "     ---------------------------------- -- 160.2/172.3 MB 59.8 MB/s eta 0:00:01\n",
      "     ---------------------------------- -- 163.0/172.3 MB 59.5 MB/s eta 0:00:01\n",
      "     ----------------------------------- - 166.5/172.3 MB 59.5 MB/s eta 0:00:01\n",
      "     ------------------------------------  169.9/172.3 MB 65.6 MB/s eta 0:00:01\n",
      "     ------------------------------------  172.3/172.3 MB 73.1 MB/s eta 0:00:01\n",
      "     ------------------------------------  172.3/172.3 MB 73.1 MB/s eta 0:00:01\n",
      "     ------------------------------------  172.3/172.3 MB 73.1 MB/s eta 0:00:01\n",
      "     ------------------------------------  172.3/172.3 MB 73.1 MB/s eta 0:00:01\n",
      "     ------------------------------------  172.3/172.3 MB 73.1 MB/s eta 0:00:01\n",
      "     ------------------------------------  172.3/172.3 MB 73.1 MB/s eta 0:00:01\n",
      "     ------------------------------------  172.3/172.3 MB 73.1 MB/s eta 0:00:01\n",
      "     ------------------------------------  172.3/172.3 MB 73.1 MB/s eta 0:00:01\n",
      "     ------------------------------------  172.3/172.3 MB 73.1 MB/s eta 0:00:01\n",
      "     ------------------------------------  172.3/172.3 MB 73.1 MB/s eta 0:00:01\n",
      "     ------------------------------------  172.3/172.3 MB 73.1 MB/s eta 0:00:01\n",
      "     ------------------------------------  172.3/172.3 MB 73.1 MB/s eta 0:00:01\n",
      "     ------------------------------------  172.3/172.3 MB 73.1 MB/s eta 0:00:01\n",
      "     ------------------------------------  172.3/172.3 MB 73.1 MB/s eta 0:00:01\n",
      "     ------------------------------------  172.3/172.3 MB 73.1 MB/s eta 0:00:01\n",
      "     -------------------------------------- 172.3/172.3 MB 8.4 MB/s eta 0:00:00\n",
      "Collecting filelock (from torch)\n",
      "  Obtaining dependency information for filelock from https://files.pythonhosted.org/packages/00/45/ec3407adf6f6b5bf867a4462b2b0af27597a26bd3cd6e2534cb6ab029938/filelock-3.12.2-py3-none-any.whl.metadata\n",
      "  Downloading filelock-3.12.2-py3-none-any.whl.metadata (2.7 kB)\n",
      "Requirement already satisfied: typing-extensions in c:\\users\\aadit\\appdata\\local\\programs\\python\\python311\\lib\\site-packages (from torch) (4.5.0)\n",
      "Collecting sympy (from torch)\n",
      "  Downloading sympy-1.12-py3-none-any.whl (5.7 MB)\n",
      "     ---------------------------------------- 0.0/5.7 MB ? eta -:--:--\n",
      "     ---------------------- ----------------- 3.2/5.7 MB 103.7 MB/s eta 0:00:01\n",
      "     ---------------------------------------  5.7/5.7 MB 92.3 MB/s eta 0:00:01\n",
      "     ---------------------------------------- 5.7/5.7 MB 61.6 MB/s eta 0:00:00\n",
      "Collecting networkx (from torch)\n",
      "  Downloading networkx-3.1-py3-none-any.whl (2.1 MB)\n",
      "     ---------------------------------------- 0.0/2.1 MB ? eta -:--:--\n",
      "     ---------------------------------------  2.1/2.1 MB 66.4 MB/s eta 0:00:01\n",
      "     ---------------------------------------- 2.1/2.1 MB 44.8 MB/s eta 0:00:00\n",
      "Collecting jinja2 (from torch)\n",
      "  Downloading Jinja2-3.1.2-py3-none-any.whl (133 kB)\n",
      "     ---------------------------------------- 0.0/133.1 kB ? eta -:--:--\n",
      "     ---------------------------------------- 133.1/133.1 kB ? eta 0:00:00\n",
      "Collecting MarkupSafe>=2.0 (from jinja2->torch)\n",
      "  Obtaining dependency information for MarkupSafe>=2.0 from https://files.pythonhosted.org/packages/be/bb/08b85bc194034efbf572e70c3951549c8eca0ada25363afc154386b5390a/MarkupSafe-2.1.3-cp311-cp311-win_amd64.whl.metadata\n",
      "  Downloading MarkupSafe-2.1.3-cp311-cp311-win_amd64.whl.metadata (3.1 kB)\n",
      "Collecting mpmath>=0.19 (from sympy->torch)\n",
      "  Downloading mpmath-1.3.0-py3-none-any.whl (536 kB)\n",
      "     ---------------------------------------- 0.0/536.2 kB ? eta -:--:--\n",
      "     ------------------------------------- 536.2/536.2 kB 32.9 MB/s eta 0:00:00\n",
      "Downloading filelock-3.12.2-py3-none-any.whl (10 kB)\n",
      "Using cached MarkupSafe-2.1.3-cp311-cp311-win_amd64.whl (17 kB)\n",
      "Installing collected packages: mpmath, sympy, networkx, MarkupSafe, filelock, jinja2, torch\n",
      "Successfully installed MarkupSafe-2.1.3 filelock-3.12.2 jinja2-3.1.2 mpmath-1.3.0 networkx-3.1 sympy-1.12 torch-2.0.1\n"
     ]
    }
   ],
   "source": [
    "import sys\n",
    "!{sys.executable} -m pip install scikit-learn\n",
    "!{sys.executable} -m pip install torch\n"
   ]
  },
  {
   "cell_type": "code",
   "execution_count": 1,
   "metadata": {},
   "outputs": [],
   "source": [
    "import numpy as np\n",
    "import pandas as pd\n",
    "\n",
    "import torch\n",
    "from sklearn.model_selection import train_test_split"
   ]
  },
  {
   "cell_type": "code",
   "execution_count": 42,
   "metadata": {},
   "outputs": [
    {
     "name": "stdout",
     "output_type": "stream",
     "text": [
      "       L_0_x  L_0_y     L_1_x     L_1_y     L_2_x     L_2_y     L_3_x  \\\n",
      "1921     0.0    0.0 -0.004820 -0.057607 -0.019342 -0.119619 -0.020058   \n",
      "5732     0.0    0.0  0.030582 -0.068452  0.066033 -0.118453  0.098958   \n",
      "2455     0.0    0.0 -0.013366 -0.054566 -0.039260 -0.100648 -0.047080   \n",
      "12131    0.0    0.0  0.051912 -0.024143  0.091883 -0.071474  0.110770   \n",
      "16612    0.0    0.0  0.035078 -0.014762  0.063324 -0.046080  0.070733   \n",
      "...      ...    ...       ...       ...       ...       ...       ...   \n",
      "11284    0.0    0.0  0.035475 -0.009871  0.065928 -0.036180  0.079373   \n",
      "11964    0.0    0.0  0.029539 -0.025970  0.048853 -0.065543  0.044937   \n",
      "5390     0.0    0.0  0.034163 -0.076962  0.064571 -0.136126  0.093768   \n",
      "860      0.0    0.0  0.000843 -0.070633  0.034067 -0.136841  0.079285   \n",
      "15795    0.0    0.0  0.054179 -0.018962  0.092692 -0.067662  0.117693   \n",
      "\n",
      "          L_3_y     L_4_x     L_4_y  ...    R_16_x    R_16_y    R_17_x  \\\n",
      "1921  -0.143313 -0.001336 -0.115714  ... -0.005126  0.028187  0.082327   \n",
      "5732  -0.143841  0.117005 -0.153723  ... -0.024936  0.013945  0.052317   \n",
      "2455  -0.116681 -0.040141 -0.101304  ...  0.002550  0.015873  0.060159   \n",
      "12131 -0.120653  0.136085 -0.159155  ...  0.030816 -0.426989  0.047119   \n",
      "16612 -0.079533  0.079622 -0.111768  ...  0.003005 -0.264752  0.028739   \n",
      "...         ...       ...       ...  ...       ...       ...       ...   \n",
      "11284 -0.068364  0.097878 -0.092844  ...  0.001454 -0.248429  0.025082   \n",
      "11964 -0.098776  0.034429 -0.128414  ...  0.033000 -0.260086  0.038140   \n",
      "5390  -0.168710  0.116331 -0.174581  ... -0.021998  0.006344  0.049547   \n",
      "860   -0.161982  0.112991 -0.156478  ... -0.042462 -0.028398 -0.008298   \n",
      "15795 -0.113516  0.148822 -0.144824  ...  0.027447 -0.380179  0.046679   \n",
      "\n",
      "         R_17_y    R_18_x    R_18_y    R_19_x    R_19_y    R_20_x    R_20_y  \n",
      "1921   0.054104  0.032146  0.075905  0.008554  0.072741  0.008648  0.060113  \n",
      "5732   0.077331 -0.009358  0.069125 -0.028349  0.053508 -0.022560  0.046786  \n",
      "2455   0.037408  0.005714  0.064840  0.001423  0.061391  0.015579  0.050043  \n",
      "12131 -0.202912  0.057742 -0.272969  0.064399 -0.318458  0.068494 -0.363672  \n",
      "16612 -0.122027  0.027962 -0.167837  0.026121 -0.198091  0.023682 -0.227105  \n",
      "...         ...       ...       ...       ...       ...       ...       ...  \n",
      "11284 -0.117316  0.023100 -0.162912  0.021162 -0.191876  0.018396 -0.219237  \n",
      "11964 -0.114821  0.041943 -0.158534  0.043347 -0.187500  0.043480 -0.216059  \n",
      "5390   0.082337 -0.013496  0.066611 -0.030820  0.045622 -0.023762  0.036475  \n",
      "860    0.001461 -0.068765 -0.002350 -0.059115  0.002419 -0.036929  0.002160  \n",
      "15795 -0.175441  0.051362 -0.241306  0.051212 -0.284291  0.049877 -0.326607  \n",
      "\n",
      "[14400 rows x 84 columns]\n",
      "1921     0\n",
      "5732     0\n",
      "2455     0\n",
      "12131    1\n",
      "16612    1\n",
      "        ..\n",
      "11284    1\n",
      "11964    1\n",
      "5390     0\n",
      "860      0\n",
      "15795    1\n",
      "Name: CATEGORY, Length: 14400, dtype: int64\n"
     ]
    }
   ],
   "source": [
    "dataset = pd.read_csv('Data/FNN_data.csv')\n",
    "\n",
    "#subtract the columns L_0_x, L_0_y, L_0_z from all the columns\n",
    "# for i in range(0, 21):\n",
    "#     dataset[f'L_{i}_x'] = dataset[f'L_{i}_x'] - dataset['L_0_x']\n",
    "#     dataset[f'L_{i}_y'] = dataset[f'L_{i}_y'] - dataset['L_0_y']\n",
    "#     # dataset[f'L_{i}_z'] = dataset[f'L_{i}_z'] - dataset['L_0_z']\n",
    "#     dataset[f'R_{i}_x'] = dataset[f'R_{i}_x'] - dataset['R_0_x']\n",
    "#     dataset[f'R_{i}_y'] = dataset[f'R_{i}_y'] - dataset['R_0_y']\n",
    "#     # dataset[f'R_{i}_z'] = dataset[f'R_{i}_z'] - dataset['R_0_z']\n",
    "\n",
    "# #write datatset to csv\n",
    "# dataset.to_csv('Data/relative_data.csv', index=False)\n",
    "\n",
    "X = dataset.iloc[:, 1:]\n",
    "Y = dataset.iloc[:, 0]\n",
    "\n",
    "# choose the columns which names do not end with z\n",
    "X = X.loc[:, ~X.columns.str.endswith('z')]\n",
    "\n",
    "# Splitting the dataset into the Training set and Test set\n",
    "X_train, X_test, Y_train, Y_test = train_test_split(X, Y, test_size = 0.2, random_state=42)\n",
    "\n",
    "# # Feature Scaling\n",
    "# from sklearn.preprocessing import StandardScaler\n",
    "# sc = StandardScaler()\n",
    "# X_train = sc.fit_transform(X_train)\n",
    "# X_test = sc.transform(X_test)\n",
    "\n",
    "print(X_train)\n",
    "print(Y_train)\n"
   ]
  },
  {
   "cell_type": "code",
   "execution_count": 43,
   "metadata": {},
   "outputs": [],
   "source": [
    "X_train_tensor = torch.tensor(X_train.values).float()\n",
    "X_test_tensor = torch.tensor(X_test.values).float()\n",
    "Y_train_tensor = torch.tensor(Y_train.values).long()\n",
    "Y_test_tensor = torch.tensor(Y_test.values).long()"
   ]
  },
  {
   "cell_type": "code",
   "execution_count": 44,
   "metadata": {},
   "outputs": [
    {
     "name": "stdout",
     "output_type": "stream",
     "text": [
      "torch.Size([14400, 84])\n",
      "torch.Size([14400])\n"
     ]
    }
   ],
   "source": [
    "print(X_train_tensor.shape)\n",
    "print(Y_train_tensor.shape)\n"
   ]
  },
  {
   "cell_type": "code",
   "execution_count": 45,
   "metadata": {},
   "outputs": [],
   "source": [
    "batch_size = 256\n",
    "n_iters = 10000\n",
    "num_epochs = n_iters / (len(X_train) / batch_size)\n",
    "num_epochs = int(num_epochs)\n",
    "\n",
    "# Pytorch train and test sets\n",
    "train = torch.utils.data.TensorDataset(X_train_tensor,Y_train_tensor)\n",
    "test = torch.utils.data.TensorDataset(X_test_tensor,Y_test_tensor)\n",
    "\n",
    "# data loader\n",
    "train_loader = torch.utils.data.DataLoader(train, batch_size = batch_size, shuffle = True)\n",
    "test_loader = torch.utils.data.DataLoader(test, batch_size = batch_size, shuffle = False)"
   ]
  },
  {
   "cell_type": "code",
   "execution_count": 46,
   "metadata": {},
   "outputs": [],
   "source": [
    "class GestureFNN(torch.nn.Module):\n",
    "    def __init__(self, input_dim, hidden_dim_1, hidden_dim_2, output_dim):\n",
    "        super(GestureFNN, self).__init__()\n",
    "        # Linear function 1: 126 --> 84\n",
    "        self.fc1 = torch.nn.Linear(input_dim, hidden_dim_1)\n",
    "\n",
    "        # Non-linearity 1\n",
    "        self.relu = torch.nn.ReLU()\n",
    "\n",
    "        # Linear function 2: 84 --> 2\n",
    "        self.fc2 = torch.nn.Linear(hidden_dim_1, hidden_dim_2)\n",
    "\n",
    "        self.relu = torch.nn.ReLU()\n",
    "\n",
    "        # Linear function 3: 24 --> 2\n",
    "        self.fc3 = torch.nn.Linear(hidden_dim_2, output_dim)\n",
    "\n",
    "    def forward(self, x):\n",
    "        # Linear function 1\n",
    "        out = self.fc1(x)\n",
    "\n",
    "        # Non-linearity 1\n",
    "        out = self.relu(out)\n",
    "\n",
    "        # Linear function 2 (readout)\n",
    "        out = self.fc2(out)\n",
    "\n",
    "        out = self.relu(out)\n",
    "\n",
    "        out = self.fc3(out)\n",
    "        return out\n",
    "\n"
   ]
  },
  {
   "cell_type": "code",
   "execution_count": 47,
   "metadata": {},
   "outputs": [],
   "source": [
    "# model = GestureFNN(input_dim=126, hidden_dim_1=56, hidden_dim_2=24, output_dim=2)\n",
    "model = GestureFNN(input_dim=84, hidden_dim_1=40, hidden_dim_2=20, output_dim=2)\n",
    "\n",
    "critereon = torch.nn.CrossEntropyLoss()\n",
    "learning_rate = 0.01\n",
    "optimizer = torch.optim.Adam(model.parameters(), lr=learning_rate)"
   ]
  },
  {
   "cell_type": "code",
   "execution_count": 48,
   "metadata": {},
   "outputs": [
    {
     "name": "stdout",
     "output_type": "stream",
     "text": [
      "epoch =    0   loss = 0.000002725026206\n",
      "epoch =   10   loss = 0.000000070780487\n",
      "epoch =   20   loss = 0.000000094994697\n",
      "epoch =   30   loss = 0.000000242142733\n",
      "epoch =   40   loss = 0.000000016763801\n",
      "epoch =   50   loss = 0.000000013038513\n",
      "epoch =   60   loss = 0.000000000000000\n",
      "epoch =   70   loss = 0.000000000000000\n",
      "epoch =   80   loss = 0.000000011175870\n",
      "epoch =   90   loss = 0.000000016763803\n",
      "epoch =  100   loss = 0.000000001862645\n",
      "epoch =  110   loss = 0.000000003725290\n",
      "epoch =  120   loss = 0.000000000000000\n",
      "epoch =  130   loss = 0.000000000000000\n",
      "epoch =  140   loss = 0.000000001862645\n",
      "epoch =  150   loss = 0.000000003725290\n",
      "epoch =  160   loss = 0.000000005587935\n",
      "epoch =  170   loss = 0.000000000000000\n",
      "Training done \n"
     ]
    }
   ],
   "source": [
    "loss_list = []\n",
    "\n",
    "for epoch in range(num_epochs):\n",
    "    for i, (landmarks, labels) in enumerate(train_loader):\n",
    "\n",
    "        y_pred = model(landmarks)\n",
    "\n",
    "        loss = critereon(y_pred, labels)\n",
    "\n",
    "        optimizer.zero_grad()\n",
    "        loss.backward()\n",
    "        optimizer.step()\n",
    "\n",
    "    if epoch % 10 == 0:\n",
    "        print(\"epoch = %4d   loss = %0.15f\" % (epoch, loss.item()))\n",
    "        loss_list.append(loss.item())\n",
    "print(\"Training done \")"
   ]
  },
  {
   "cell_type": "code",
   "execution_count": 49,
   "metadata": {},
   "outputs": [
    {
     "data": {
      "image/png": "[encoded data removed]",
      "text/plain": [
       "<Figure size 640x480 with 1 Axes>"
      ]
     },
     "metadata": {},
     "output_type": "display_data"
    }
   ],
   "source": [
    "# plot accuracy and loss seaborn\n",
    "import seaborn as sns\n",
    "import matplotlib.pyplot as plt\n",
    "\n",
    "# sns.set_style(\"darkgrid\")\n",
    "# plt.plot(loss_list, label=\"Loss\")\n",
    "# plt.plot(accuracy_list, label=\"Accuracy\")\n",
    "# plt.legend()\n",
    "# plt.show()\n",
    "\n",
    "# plot the loss\n",
    "plt.plot(loss_list, label=\"Loss\")\n",
    "plt.legend()\n",
    "plt.show()\n"
   ]
  },
  {
   "cell_type": "code",
   "execution_count": 111,
   "metadata": {},
   "outputs": [],
   "source": [
    "# save the model\n",
    "torch.save(model.state_dict(), 'Model/model.pth')"
   ]
  },
  {
   "cell_type": "code",
   "execution_count": 50,
   "metadata": {},
   "outputs": [
    {
     "name": "stdout",
     "output_type": "stream",
     "text": [
      "Accuracy: 100.000 %\n"
     ]
    }
   ],
   "source": [
    "correct = 0\n",
    "total = 0\n",
    "with torch.no_grad():\n",
    "    for i, (landmarks, labels) in enumerate(test_loader):\n",
    "        y_pred = model(landmarks)\n",
    "        _, predicted = torch.max(y_pred.data, 1)\n",
    "        total += labels.size(0)\n",
    "        correct += (predicted == labels).sum().item()\n",
    "accuracy = 100 * correct / total\n",
    "print('Accuracy: %.3f %%' % accuracy)\n"
   ]
  },
  {
   "cell_type": "code",
   "execution_count": 33,
   "metadata": {},
   "outputs": [
    {
     "name": "stdout",
     "output_type": "stream",
     "text": [
      "Collecting seaborn\n",
      "  Downloading seaborn-0.12.2-py3-none-any.whl (293 kB)\n",
      "     ---------------------------------------- 0.0/293.3 kB ? eta -:--:--\n",
      "     -------------------------------------  286.7/293.3 kB 8.9 MB/s eta 0:00:01\n",
      "     -------------------------------------- 293.3/293.3 kB 6.0 MB/s eta 0:00:00\n",
      "Requirement already satisfied: numpy!=1.24.0,>=1.17 in c:\\users\\aadit\\appdata\\local\\programs\\python\\python311\\lib\\site-packages (from seaborn) (1.24.3)\n",
      "Requirement already satisfied: pandas>=0.25 in c:\\users\\aadit\\appdata\\local\\programs\\python\\python311\\lib\\site-packages (from seaborn) (2.0.3)\n",
      "Requirement already satisfied: matplotlib!=3.6.1,>=3.1 in c:\\users\\aadit\\appdata\\local\\programs\\python\\python311\\lib\\site-packages (from seaborn) (3.7.2)\n",
      "Requirement already satisfied: contourpy>=1.0.1 in c:\\users\\aadit\\appdata\\local\\programs\\python\\python311\\lib\\site-packages (from matplotlib!=3.6.1,>=3.1->seaborn) (1.1.0)\n",
      "Requirement already satisfied: cycler>=0.10 in c:\\users\\aadit\\appdata\\local\\programs\\python\\python311\\lib\\site-packages (from matplotlib!=3.6.1,>=3.1->seaborn) (0.11.0)\n",
      "Requirement already satisfied: fonttools>=4.22.0 in c:\\users\\aadit\\appdata\\local\\programs\\python\\python311\\lib\\site-packages (from matplotlib!=3.6.1,>=3.1->seaborn) (4.40.0)\n",
      "Requirement already satisfied: kiwisolver>=1.0.1 in c:\\users\\aadit\\appdata\\local\\programs\\python\\python311\\lib\\site-packages (from matplotlib!=3.6.1,>=3.1->seaborn) (1.4.4)\n",
      "Requirement already satisfied: packaging>=20.0 in c:\\users\\aadit\\appdata\\roaming\\python\\python311\\site-packages (from matplotlib!=3.6.1,>=3.1->seaborn) (23.1)\n",
      "Requirement already satisfied: pillow>=6.2.0 in c:\\users\\aadit\\appdata\\local\\programs\\python\\python311\\lib\\site-packages (from matplotlib!=3.6.1,>=3.1->seaborn) (10.0.0)\n",
      "Requirement already satisfied: pyparsing<3.1,>=2.3.1 in c:\\users\\aadit\\appdata\\local\\programs\\python\\python311\\lib\\site-packages (from matplotlib!=3.6.1,>=3.1->seaborn) (3.0.9)\n",
      "Requirement already satisfied: python-dateutil>=2.7 in c:\\users\\aadit\\appdata\\roaming\\python\\python311\\site-packages (from matplotlib!=3.6.1,>=3.1->seaborn) (2.8.2)\n",
      "Requirement already satisfied: pytz>=2020.1 in c:\\users\\aadit\\appdata\\local\\programs\\python\\python311\\lib\\site-packages (from pandas>=0.25->seaborn) (2023.3)\n",
      "Requirement already satisfied: tzdata>=2022.1 in c:\\users\\aadit\\appdata\\local\\programs\\python\\python311\\lib\\site-packages (from pandas>=0.25->seaborn) (2023.3)\n",
      "Requirement already satisfied: six>=1.5 in c:\\users\\aadit\\appdata\\roaming\\python\\python311\\site-packages (from python-dateutil>=2.7->matplotlib!=3.6.1,>=3.1->seaborn) (1.16.0)\n",
      "Installing collected packages: seaborn\n",
      "Successfully installed seaborn-0.12.2\n"
     ]
    }
   ],
   "source": [
    "import sys\n",
    "!{sys.executable} -m pip install seaborn"
   ]
  },
  {
   "cell_type": "code",
   "execution_count": 110,
   "metadata": {},
   "outputs": [
    {
     "name": "stdout",
     "output_type": "stream",
     "text": [
      "[[66  0]\n",
      " [ 0 82]]\n"
     ]
    },
    {
     "data": {
      "image/png": "[encoded data removed]",
      "text/plain": [
       "<Figure size 1000x1000 with 2 Axes>"
      ]
     },
     "metadata": {},
     "output_type": "display_data"
    }
   ],
   "source": [
    "# plot a graphical confusion matrix for the test set using matplotlib\n",
    "from sklearn.metrics import confusion_matrix\n",
    "import seaborn as sns\n",
    "\n",
    "cm = confusion_matrix(labels, predicted)\n",
    "print(cm)\n",
    "plt.figure(figsize=(10, 10))\n",
    "sns.heatmap(cm, annot=True, fmt=\".3f\", linewidths=.5, square=True, cmap='Blues_r')\n",
    "plt.ylabel('Actual label')\n",
    "plt.xlabel('Predicted label')\n",
    "all_sample_title = 'Accuracy Score: {0}'.format(accuracy)\n",
    "plt.title(all_sample_title, size=15)\n",
    "plt.show()\n",
    "\n"
   ]
  }
 ],
 "metadata": {
  "kernelspec": {
   "display_name": "Python 3",
   "language": "python",
   "name": "python3"
  },
  "language_info": {
   "codemirror_mode": {
    "name": "ipython",
    "version": 3
   },
   "file_extension": ".py",
   "mimetype": "text/x-python",
   "name": "python",
   "nbconvert_exporter": "python",
   "pygments_lexer": "ipython3",
   "version": "3.11.4"
  },
  "orig_nbformat": 4
 },
 "nbformat": 4,
 "nbformat_minor": 2
}
