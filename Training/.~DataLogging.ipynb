{
 "cells": [
  {
   "cell_type": "code",
   "execution_count": 23,
   "id": "d4c8fe04",
   "metadata": {},
   "outputs": [
    {
     "name": "stdout",
     "output_type": "stream",
     "text": [
      "Requirement already satisfied: opencv-python in c:\\users\\aadit\\anaconda3\\lib\\site-packages (4.8.0.74)\n",
      "Requirement already satisfied: numpy>=1.17.0 in c:\\users\\aadit\\anaconda3\\lib\\site-packages (from opencv-python) (1.20.3)\n",
      "Requirement already satisfied: mediapipe in c:\\users\\aadit\\anaconda3\\lib\\site-packages (0.10.1)\n",
      "Requirement already satisfied: attrs>=19.1.0 in c:\\users\\aadit\\anaconda3\\lib\\site-packages (from mediapipe) (21.2.0)\n",
      "Requirement already satisfied: opencv-contrib-python in c:\\users\\aadit\\anaconda3\\lib\\site-packages (from mediapipe) (4.8.0.74)\n",
      "Requirement already satisfied: matplotlib in c:\\users\\aadit\\anaconda3\\lib\\site-packages (from mediapipe) (3.4.3)\n",
      "Requirement already satisfied: absl-py in c:\\users\\aadit\\anaconda3\\lib\\site-packages (from mediapipe) (1.4.0)\n",
      "Requirement already satisfied: sounddevice>=0.4.4 in c:\\users\\aadit\\anaconda3\\lib\\site-packages (from mediapipe) (0.4.6)\n",
      "Requirement already satisfied: numpy in c:\\users\\aadit\\anaconda3\\lib\\site-packages (from mediapipe) (1.20.3)\n",
      "Requirement already satisfied: flatbuffers>=2.0 in c:\\users\\aadit\\anaconda3\\lib\\site-packages (from mediapipe) (23.5.26)\n",
      "Requirement already satisfied: protobuf<4,>=3.11 in c:\\users\\aadit\\anaconda3\\lib\\site-packages (from mediapipe) (3.20.3)\n",
      "Requirement already satisfied: CFFI>=1.0 in c:\\users\\aadit\\anaconda3\\lib\\site-packages (from sounddevice>=0.4.4->mediapipe) (1.14.6)\n",
      "Requirement already satisfied: pycparser in c:\\users\\aadit\\anaconda3\\lib\\site-packages (from CFFI>=1.0->sounddevice>=0.4.4->mediapipe) (2.20)\n",
      "Requirement already satisfied: kiwisolver>=1.0.1 in c:\\users\\aadit\\anaconda3\\lib\\site-packages (from matplotlib->mediapipe) (1.3.1)\n",
      "Requirement already satisfied: python-dateutil>=2.7 in c:\\users\\aadit\\anaconda3\\lib\\site-packages (from matplotlib->mediapipe) (2.8.2)\n",
      "Requirement already satisfied: pillow>=6.2.0 in c:\\users\\aadit\\anaconda3\\lib\\site-packages (from matplotlib->mediapipe) (8.4.0)\n",
      "Requirement already satisfied: cycler>=0.10 in c:\\users\\aadit\\anaconda3\\lib\\site-packages (from matplotlib->mediapipe) (0.10.0)\n",
      "Requirement already satisfied: pyparsing>=2.2.1 in c:\\users\\aadit\\anaconda3\\lib\\site-packages (from matplotlib->mediapipe) (3.0.4)\n",
      "Requirement already satisfied: six in c:\\users\\aadit\\anaconda3\\lib\\site-packages (from cycler>=0.10->matplotlib->mediapipe) (1.16.0)\n",
      "Requirement already satisfied: matplotlib in c:\\users\\aadit\\anaconda3\\lib\\site-packages (3.4.3)\n",
      "Requirement already satisfied: numpy>=1.16 in c:\\users\\aadit\\anaconda3\\lib\\site-packages (from matplotlib) (1.20.3)\n",
      "Requirement already satisfied: kiwisolver>=1.0.1 in c:\\users\\aadit\\anaconda3\\lib\\site-packages (from matplotlib) (1.3.1)\n",
      "Requirement already satisfied: pyparsing>=2.2.1 in c:\\users\\aadit\\anaconda3\\lib\\site-packages (from matplotlib) (3.0.4)\n",
      "Requirement already satisfied: pillow>=6.2.0 in c:\\users\\aadit\\anaconda3\\lib\\site-packages (from matplotlib) (8.4.0)\n",
      "Requirement already satisfied: python-dateutil>=2.7 in c:\\users\\aadit\\anaconda3\\lib\\site-packages (from matplotlib) (2.8.2)\n",
      "Requirement already satisfied: cycler>=0.10 in c:\\users\\aadit\\anaconda3\\lib\\site-packages (from matplotlib) (0.10.0)\n",
      "Requirement already satisfied: six in c:\\users\\aadit\\anaconda3\\lib\\site-packages (from cycler>=0.10->matplotlib) (1.16.0)\n"
     ]
    }
   ],
   "source": [
    "import sys\n",
    "!{sys.executable} -m pip install opencv-python\n",
    "!{sys.executable} -m pip install mediapipe\n",
    "!{sys.executable} -m pip install matplotlib\n",
    "\n"
   ]
  },
  {
   "cell_type": "code",
   "execution_count": 24,
   "id": "4b9affd3",
   "metadata": {},
   "outputs": [],
   "source": [
    "import cv2 as cv\n",
    "import mediapipe as mp\n",
    "import matplotlib.pyplot as plt"
   ]
  },
  {
   "cell_type": "code",
   "execution_count": 25,
   "id": "2e264368",
   "metadata": {},
   "outputs": [],
   "source": [
    "def draw_landmarks(detection_results, image):\n",
    "\n",
    "    width = image.shape[1]\n",
    "    height = image.shape[0]\n",
    "\n",
    "    for hand_landmarks in detection_results.multi_hand_landmarks:\n",
    "        for landmark in hand_landmarks.landmark:\n",
    "            x = min(int(landmark.x * width), width - 1)\n",
    "            y = min(int(landmark.y * height), height - 1)\n",
    "            cv.circle(image, (x, y), 5, (0, 255, 0), -1)\n",
    "\n",
    "    return image"
   ]
  },
  {
   "cell_type": "code",
   "execution_count": 26,
   "id": "8ae633ef",
   "metadata": {},
   "outputs": [],
   "source": [
    "def find_center_of_hand(hand_landmarks):\n",
    "    x_vals = [landmark.x for landmark in hand_landmarks.landmark]\n",
    "    y_vals = [landmark.y for landmark in hand_landmarks.landmark]\n",
    "    z_vals = [landmark.z for landmark in hand_landmarks.landmark]\n",
    "\n",
    "    x_center = sum(x_vals) / len(x_vals)\n",
    "    y_center = sum(y_vals) / len(y_vals)\n",
    "    z_center = sum(z_vals) / len(z_vals)\n",
    "\n",
    "    return x_center, y_center, z_center"
   ]
  },
  {
   "cell_type": "code",
   "execution_count": 27,
   "id": "5a65791c",
   "metadata": {},
   "outputs": [],
   "source": [
    "mp_hand = mp.solutions.hands\n",
    "hands = mp_hand.Hands(\n",
    "    static_image_mode=False,\n",
    "    max_num_hands=1,\n",
    "    min_detection_confidence=0.7,\n",
    "    min_tracking_confidence=0.5\n",
    ")"
   ]
  },
  {
   "cell_type": "code",
   "execution_count": 62,
   "id": "e40dc286",
   "metadata": {},
   "outputs": [],
   "source": [
    "def write_to_csv(results, path):\n",
    "    left_hand_row = [0]\n",
    "    right_hand_row = [1]\n",
    "    \n",
    "    lhr_x = [landmark.x for landmark in results.multi_hand_landmarks[0].landmark]\n",
    "    lhr_y = [landmark.y for landmark in results.multi_hand_landmarks[0].landmark]\n",
    "    lhr_z = [landmark.z for landmark in results.multi_hand_landmarks[0].landmark]\n",
    "    \n",
    "    lhr_values = list(zip(lhr_x, lhr_y, lhr_z))\n",
    "    lhr_values = list(sum(lhr_values, ()))\n",
    "    \n",
    "    rhr_x = [landmark.x for landmark in results.multi_hand_landmarks[1].landmark]\n",
    "    rhr_y = [landmark.y for landmark in results.multi_hand_landmarks[1].landmark]\n",
    "    rhr_z = [landmark.z for landmark in results.multi_hand_landmarks[1].landmark]\n",
    "    \n",
    "    rhr_values = list(zip(rhr_x, rhr_y, rhr_z))\n",
    "    rhr_values = list(sum(rhr_values, ()))\n",
    "    \n",
    "    left_hand_row.extend(lhr_values)\n",
    "    right_hand_row.extend(rhr_values)\n",
    "    \n",
    "    left_hand_row = ','.join(str(i) for i in left_hand_row)\n",
    "    right_hand_row = ','.join(str(i) for i in right_hand_row)\n",
    "    \n",
    "    print(left_hand_row)\n",
    "    \n",
    "    print('!!!!!!!!!!!!')\n",
    "    \n",
    "    print(right_hand_row)\n",
    "    \n",
    "    with open(path, 'w') as f:\n",
    "        f.write(left_hand_row)\n",
    "        f.write(right_hand_row)\n",
    "    \n",
    "    \n",
    "    \n",
    "    "
   ]
  },
  {
   "cell_type": "code",
   "execution_count": 33,
   "id": "7a684453",
   "metadata": {},
   "outputs": [],
   "source": [
    "cap = cv.VideoCapture(0)\n",
    "hands = mp.solutions.hands.Hands(static_image_mode=False, max_num_hands=2, min_detection_confidence=0.7,\n",
    "                                 min_tracking_confidence=0.5)\n",
    "\n",
    "x_landmarks_num12_0 = []\n",
    "x_landmarks_num12_1 = []\n",
    "while True:\n",
    "    success, img = cap.read()\n",
    "    img = cv.flip(img, 1)\n",
    "\n",
    "    if not success:\n",
    "        print(\"Could not read frame\")\n",
    "        break\n",
    "\n",
    "    results = hands.process(cv.cvtColor(img, cv.COLOR_BGR2RGB))\n",
    "\n",
    "    if results.multi_hand_landmarks:\n",
    "        if len(results.multi_hand_landmarks) == 2:\n",
    "            x_landmarks_num12_0.append(results.multi_hand_landmarks[0].landmark[12].x)\n",
    "            x_landmarks_num12_1.append(results.multi_hand_landmarks[1].landmark[12].x)\n",
    "        \n",
    "        img = draw_landmarks(results, img)\n",
    "        \n",
    "    \n",
    "    cv.imshow(\"image\", img)\n",
    "\n",
    "    if cv.waitKey(1) == 27:  # Press ESC to exit\n",
    "        break\n",
    "\n",
    "cap.release()\n",
    "cv.destroyAllWindows()\n",
    "\n",
    "# print(x_landmarks_num12)\n",
    "# print(x_landmarks_num12)\n"
   ]
  },
  {
   "cell_type": "code",
   "execution_count": 34,
   "id": "484178a2",
   "metadata": {},
   "outputs": [
    {
     "name": "stdout",
     "output_type": "stream",
     "text": [
      "0.7770236909744286\n",
      "0.18841144597778717\n"
     ]
    }
   ],
   "source": [
    "from statistics import mean\n",
    "\n",
    "print(mean(x_landmarks_num12_0))\n",
    "print(mean(x_landmarks_num12_1))"
   ]
  },
  {
   "cell_type": "code",
   "execution_count": 15,
   "id": "751b142d",
   "metadata": {},
   "outputs": [
    {
     "name": "stdout",
     "output_type": "stream",
     "text": [
      "0.10726800560951233\n"
     ]
    }
   ],
   "source": [
    "l = [-0.05461837351322174, -0.039933957159519196, -0.06056225672364235, -0.05709073320031166, -0.01834910735487938, -0.04916917160153389, -0.04345696419477463, -0.046482279896736145, -0.04866853356361389, -0.05047387257218361, -0.053319331258535385, -0.05578894540667534, -0.057736434042453766, -0.05710639804601669, -0.0664980560541153, -0.06825205683708191, -0.06907045096158981, -0.05396174639463425, -0.05775589495897293, -0.0564788319170475, -0.0535411536693573, -0.05696886032819748, -0.05623641982674599, -0.06877078115940094, -0.07299260050058365, -0.07917386293411255, -0.09523651003837585, -0.10358564555644989, -0.12652193009853363, -0.0849795937538147, -0.09945941716432571, -0.10114751011133194, -0.14365124702453613, -0.1405508816242218, -0.2320198267698288, -0.2666601836681366, -0.26864323019981384, -0.2537117004394531, -0.411050409078598, -0.3045872747898102, -0.2672044336795807, -0.2979775071144104, -0.3292246460914612, -0.27790072560310364, -0.36462992429733276, -0.261315256357193, -0.38375887274742126, -0.3129776120185852, -0.35357314348220825, -0.31675323843955994, -0.47759103775024414, -0.46197202801704407, -0.4040682017803192, -0.42467179894447327, -0.45799633860588074, -0.324290007352829, -0.30969732999801636, -0.282787561416626, -0.2343411147594452, -0.27591660618782043, -0.4470181465148926, -0.30375707149505615, -0.35261106491088867, -0.2769797146320343, -0.3069077134132385, -0.42381927371025085, -0.3893466889858246, -0.37746793031692505, -0.3464573323726654, -0.3732241094112396, -0.2577109932899475, -0.2980896532535553, -0.28975099325180054, -0.3030768632888794, -0.31675735116004944, -0.28681686520576477, -0.2749186158180237, -0.32726019620895386, -0.24109715223312378, -0.2708505690097809, -0.23592634499073029, -0.22674690186977386, -0.2345062494277954, -0.22738926112651825, -0.21757562458515167, -0.2370617836713791, -0.2682233154773712, -0.25795313715934753, -0.22887949645519257, -0.20727837085723877, -0.1791614592075348, -0.13189482688903809, -0.14785236120224, -0.17875520884990692, -0.12014585733413696, -0.0817357525229454, -0.06900018453598022, -0.03833400458097458, -0.017320988699793816, 0.03256438300013542, 0.021085591986775398, 0.03061109595000744, -0.02976357936859131, -0.019053693860769272, -0.0037400764413177967, -0.007108213379979134, 0.035482462495565414, 0.03333107382059097, 0.013210619799792767, 0.008239354006946087, 0.02303873375058174, 0.035155341029167175, 0.027282074093818665, 0.001986114075407386, 0.02681100182235241, 0.02751840092241764, 0.047148894518613815, 0.03619161248207092, -0.00552197964861989, 0.02304570935666561, -0.0038937770295888186, -0.002391053130850196, -0.015330410562455654, -0.006837442517280579, 0.002528830198571086, -0.00183902308344841, 0.00917025562375784, -4.337661812314764e-05, 0.05665821209549904, 0.029204299673438072, 0.03693550080060959, 0.06139514595270157, 0.06193534657359123, 0.08023840934038162, 0.09594420343637466, 0.05879475176334381, 0.0599052794277668, 0.08515798300504684, 0.05089525878429413, 0.07439747452735901, 0.040861714631319046, 0.08894222974777222, 0.09214474260807037, 0.061187442392110825, 0.04211132228374481, 0.06627833843231201, 0.05378159508109093, 0.09631913900375366, 0.06609532982110977, 0.0357840321958065, 0.0944443866610527, 0.06250381469726562, 0.05226801335811615, 0.06224692612886429, 0.06912416964769363, 0.05068807676434517, 0.029340744018554688, 0.06122451275587082, 0.069029301404953, 0.06454305350780487, 0.0721314325928688, 0.06868983060121536, 0.07785433530807495, 0.09096996486186981, 0.05072261765599251, 0.07461465895175934, 0.06720231473445892, 0.056527815759181976, 0.10726800560951233, 0.04634147882461548, 0.040233463048934937, 0.0693361833691597, 0.06571519374847412, 0.0488930344581604, 0.04439457133412361, 0.05247695744037628, 0.05251893401145935, 0.06714154034852982, 0.061202794313430786, 0.044586069881916046, 0.009392284788191319, 0.04364820197224617, 0.027503781020641327, 0.014239785261452198, 0.006096073891967535, 0.006154180038720369, -0.021351300179958344, -0.01091413851827383, -0.01735115982592106, -0.022815212607383728, -0.049286745488643646, -0.00790188368409872]\n",
    "\n",
    "print(max(l))"
   ]
  },
  {
   "cell_type": "code",
   "execution_count": 63,
   "id": "5a90715b",
   "metadata": {},
   "outputs": [
    {
     "name": "stdout",
     "output_type": "stream",
     "text": [
      "0,0.2118869423866272,0.4544408619403839,2.9166707804506586e-07,0.2453235536813736,0.4398679733276367,-0.021183758974075317,0.2721969187259674,0.40803268551826477,-0.031309280544519424,0.29743993282318115,0.38171303272247314,-0.03972969949245453,0.3204188048839569,0.367344468832016,-0.04811666160821915,0.24984858930110931,0.32425639033317566,-0.01929515041410923,0.25877082347869873,0.2726154327392578,-0.029918406158685684,0.26281771063804626,0.23903417587280273,-0.038265347480773926,0.26425421237945557,0.20917190611362457,-0.04525034874677658,0.22650188207626343,0.31495046615600586,-0.018790239468216896,0.22730547189712524,0.25571978092193604,-0.02951192669570446,0.22853687405586243,0.21720007061958313,-0.038585443049669266,0.2282589077949524,0.18380330502986908,-0.045353520661592484,0.20451229810714722,0.3222556710243225,-0.020808467641472816,0.19657237827777863,0.2673390507698059,-0.03351522237062454,0.19119718670845032,0.22954757511615753,-0.04439570754766464,0.1867293119430542,0.19662132859230042,-0.05175106227397919,0.1842903196811676,0.3425998091697693,-0.02466507814824581,0.16703936457633972,0.3050200641155243,-0.038187023252248764,0.15576276183128357,0.27900320291519165,-0.04675455763936043,0.14714473485946655,0.25279244780540466,-0.05226155370473862\n",
      "!!!!!!!!!!!!\n",
      "1,0.7674103379249573,0.44674649834632874,3.6693276683763543e-07,0.7349663376808167,0.4401465952396393,-0.020214039832353592,0.7090263962745667,0.40991175174713135,-0.032432958483695984,0.6864571571350098,0.38530969619750977,-0.04223313927650452,0.6636340022087097,0.37096041440963745,-0.05236447602510452,0.731756329536438,0.31784698367118835,-0.02305823750793934,0.7253618240356445,0.26485323905944824,-0.03381001204252243,0.7229750156402588,0.22965969145298004,-0.04309150576591492,0.7221927642822266,0.20067524909973145,-0.05060382932424545,0.7558687925338745,0.3102031350135803,-0.02329844981431961,0.7564452886581421,0.2505030632019043,-0.03350748494267464,0.7575498223304749,0.21152442693710327,-0.04348216578364372,0.7588311433792114,0.17965161800384521,-0.0512048713862896,0.7780883312225342,0.31804218888282776,-0.02549365721642971,0.7868472933769226,0.2630225718021393,-0.03893096372485161,0.7930431962013245,0.22590549290180206,-0.05047142878174782,0.7984509468078613,0.1931225061416626,-0.058725327253341675,0.7971125841140747,0.3377997577190399,-0.028988156467676163,0.8167686462402344,0.30008405447006226,-0.043557822704315186,0.8295990228652954,0.2755214273929596,-0.05179516226053238,0.8403578996658325,0.2527347207069397,-0.057175420224666595\n"
     ]
    }
   ],
   "source": [
    "hands = mp.solutions.hands.Hands(static_image_mode=False, max_num_hands=2, min_detection_confidence=0.7,\n",
    "                                 min_tracking_confidence=0.5)\n",
    "\n",
    "img = cv.imread('istockphoto-1267273871-612x612.jpg')\n",
    "\n",
    "cv.imshow('image', img)\n",
    "\n",
    "results = hands.process(cv.cvtColor(img, cv.COLOR_BGR2RGB))\n",
    "# # print(results.multi_hand_landmarks)\n",
    "# print(type(results.multi_hand_landmarks))\n",
    "# print(type(results.multi_hand_landmarks[0].landmark[:]))\n",
    "# x_landmarks = [landmark.x for landmark in results.multi_hand_landmarks[0].landmark]\n",
    "\n",
    "# print(x_landmarks)\n",
    "# print(len(x_landmarks))\n",
    "\n",
    "# print(results.multi_handedness)\n",
    "\n",
    "write_to_csv(results, 'hands.csv')\n",
    "cv.waitKey(0)\n",
    "cv.destroyAllWindows()"
   ]
  },
  {
   "cell_type": "code",
   "execution_count": null,
   "id": "2830af45",
   "metadata": {},
   "outputs": [],
   "source": []
  }
 ],
 "metadata": {
  "kernelspec": {
   "display_name": "Python 3 (ipykernel)",
   "language": "python",
   "name": "python3"
  },
  "language_info": {
   "codemirror_mode": {
    "name": "ipython",
    "version": 3
   },
   "file_extension": ".py",
   "mimetype": "text/x-python",
   "name": "python",
   "nbconvert_exporter": "python",
   "pygments_lexer": "ipython3",
   "version": "3.9.7"
  }
 },
 "nbformat": 4,
 "nbformat_minor": 5
}
