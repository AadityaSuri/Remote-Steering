{
 "cells": [
  {
   "cell_type": "code",
   "execution_count": 23,
   "id": "d4c8fe04",
   "metadata": {},
   "outputs": [
    {
     "name": "stdout",
     "output_type": "stream",
     "text": [
      "Requirement already satisfied: opencv-python in c:\\users\\aadit\\anaconda3\\lib\\site-packages (4.8.0.74)\n",
      "Requirement already satisfied: numpy>=1.17.0 in c:\\users\\aadit\\anaconda3\\lib\\site-packages (from opencv-python) (1.20.3)\n",
      "Requirement already satisfied: mediapipe in c:\\users\\aadit\\anaconda3\\lib\\site-packages (0.10.1)\n",
      "Requirement already satisfied: attrs>=19.1.0 in c:\\users\\aadit\\anaconda3\\lib\\site-packages (from mediapipe) (21.2.0)\n",
      "Requirement already satisfied: opencv-contrib-python in c:\\users\\aadit\\anaconda3\\lib\\site-packages (from mediapipe) (4.8.0.74)\n",
      "Requirement already satisfied: matplotlib in c:\\users\\aadit\\anaconda3\\lib\\site-packages (from mediapipe) (3.4.3)\n",
      "Requirement already satisfied: absl-py in c:\\users\\aadit\\anaconda3\\lib\\site-packages (from mediapipe) (1.4.0)\n",
      "Requirement already satisfied: sounddevice>=0.4.4 in c:\\users\\aadit\\anaconda3\\lib\\site-packages (from mediapipe) (0.4.6)\n",
      "Requirement already satisfied: numpy in c:\\users\\aadit\\anaconda3\\lib\\site-packages (from mediapipe) (1.20.3)\n",
      "Requirement already satisfied: flatbuffers>=2.0 in c:\\users\\aadit\\anaconda3\\lib\\site-packages (from mediapipe) (23.5.26)\n",
      "Requirement already satisfied: protobuf<4,>=3.11 in c:\\users\\aadit\\anaconda3\\lib\\site-packages (from mediapipe) (3.20.3)\n",
      "Requirement already satisfied: CFFI>=1.0 in c:\\users\\aadit\\anaconda3\\lib\\site-packages (from sounddevice>=0.4.4->mediapipe) (1.14.6)\n",
      "Requirement already satisfied: pycparser in c:\\users\\aadit\\anaconda3\\lib\\site-packages (from CFFI>=1.0->sounddevice>=0.4.4->mediapipe) (2.20)\n",
      "Requirement already satisfied: kiwisolver>=1.0.1 in c:\\users\\aadit\\anaconda3\\lib\\site-packages (from matplotlib->mediapipe) (1.3.1)\n",
      "Requirement already satisfied: python-dateutil>=2.7 in c:\\users\\aadit\\anaconda3\\lib\\site-packages (from matplotlib->mediapipe) (2.8.2)\n",
      "Requirement already satisfied: pillow>=6.2.0 in c:\\users\\aadit\\anaconda3\\lib\\site-packages (from matplotlib->mediapipe) (8.4.0)\n",
      "Requirement already satisfied: cycler>=0.10 in c:\\users\\aadit\\anaconda3\\lib\\site-packages (from matplotlib->mediapipe) (0.10.0)\n",
      "Requirement already satisfied: pyparsing>=2.2.1 in c:\\users\\aadit\\anaconda3\\lib\\site-packages (from matplotlib->mediapipe) (3.0.4)\n",
      "Requirement already satisfied: six in c:\\users\\aadit\\anaconda3\\lib\\site-packages (from cycler>=0.10->matplotlib->mediapipe) (1.16.0)\n",
      "Requirement already satisfied: matplotlib in c:\\users\\aadit\\anaconda3\\lib\\site-packages (3.4.3)\n",
      "Requirement already satisfied: numpy>=1.16 in c:\\users\\aadit\\anaconda3\\lib\\site-packages (from matplotlib) (1.20.3)\n",
      "Requirement already satisfied: kiwisolver>=1.0.1 in c:\\users\\aadit\\anaconda3\\lib\\site-packages (from matplotlib) (1.3.1)\n",
      "Requirement already satisfied: pyparsing>=2.2.1 in c:\\users\\aadit\\anaconda3\\lib\\site-packages (from matplotlib) (3.0.4)\n",
      "Requirement already satisfied: pillow>=6.2.0 in c:\\users\\aadit\\anaconda3\\lib\\site-packages (from matplotlib) (8.4.0)\n",
      "Requirement already satisfied: python-dateutil>=2.7 in c:\\users\\aadit\\anaconda3\\lib\\site-packages (from matplotlib) (2.8.2)\n",
      "Requirement already satisfied: cycler>=0.10 in c:\\users\\aadit\\anaconda3\\lib\\site-packages (from matplotlib) (0.10.0)\n",
      "Requirement already satisfied: six in c:\\users\\aadit\\anaconda3\\lib\\site-packages (from cycler>=0.10->matplotlib) (1.16.0)\n"
     ]
    }
   ],
   "source": [
    "import sys\n",
    "!{sys.executable} -m pip install opencv-python\n",
    "!{sys.executable} -m pip install mediapipe\n",
    "!{sys.executable} -m pip install matplotlib\n",
    "\n"
   ]
  },
  {
   "cell_type": "code",
   "execution_count": 1,
   "id": "4b9affd3",
   "metadata": {},
   "outputs": [],
   "source": [
    "import cv2 as cv\n",
    "import mediapipe as mp\n",
    "import matplotlib.pyplot as plt"
   ]
  },
  {
   "cell_type": "code",
   "execution_count": 2,
   "id": "2e264368",
   "metadata": {},
   "outputs": [],
   "source": [
    "def draw_landmarks(detection_results, image):\n",
    "\n",
    "    width = image.shape[1]\n",
    "    height = image.shape[0]\n",
    "\n",
    "    for hand_landmarks in detection_results.multi_hand_landmarks:\n",
    "        for landmark in hand_landmarks.landmark:\n",
    "            x = min(int(landmark.x * width), width - 1)\n",
    "            y = min(int(landmark.y * height), height - 1)\n",
    "            cv.circle(image, (x, y), 5, (0, 255, 0), -1)\n",
    "\n",
    "    return image"
   ]
  },
  {
   "cell_type": "code",
   "execution_count": 3,
   "id": "8ae633ef",
   "metadata": {},
   "outputs": [],
   "source": [
    "def find_center_of_hand(hand_landmarks):\n",
    "    x_vals = [landmark.x for landmark in hand_landmarks.landmark]\n",
    "    y_vals = [landmark.y for landmark in hand_landmarks.landmark]\n",
    "    z_vals = [landmark.z for landmark in hand_landmarks.landmark]\n",
    "\n",
    "    x_center = sum(x_vals) / len(x_vals)\n",
    "    y_center = sum(y_vals) / len(y_vals)\n",
    "    z_center = sum(z_vals) / len(z_vals)\n",
    "\n",
    "    return x_center, y_center, z_center"
   ]
  },
  {
   "cell_type": "code",
   "execution_count": 5,
   "id": "5a65791c",
   "metadata": {},
   "outputs": [],
   "source": [
    "mp_hand = mp.solutions.hands\n",
    "hands = mp_hand.Hands(\n",
    "    static_image_mode=False,\n",
    "    max_num_hands=1,\n",
    "    min_detection_confidence=0.7,\n",
    "    min_tracking_confidence=0.5\n",
    ")"
   ]
  },
  {
   "cell_type": "code",
   "execution_count": 4,
   "id": "cf135a2b",
   "metadata": {},
   "outputs": [],
   "source": [
    "import numpy as np\n",
    "\n",
    "def write_to_csv(results, path):\n",
    "    left_hand_row = np.array([0])\n",
    "    right_hand_row = np.array([1])\n",
    "    \n",
    "    lhr_x = np.array([landmark.x for landmark in results.multi_hand_landmarks[0].landmark])\n",
    "    lhr_y = np.array([landmark.y for landmark in results.multi_hand_landmarks[0].landmark])\n",
    "    lhr_z = np.array([landmark.z for landmark in results.multi_hand_landmarks[0].landmark])\n",
    "    \n",
    "    lhr_values = np.array(list(zip(lhr_x, lhr_y, lhr_z)))\n",
    "    lhr_values = lhr_values.flatten()\n",
    "    \n",
    "    rhr_x = np.array([landmark.x for landmark in results.multi_hand_landmarks[1].landmark])\n",
    "    rhr_y = np.array([landmark.y for landmark in results.multi_hand_landmarks[1].landmark])\n",
    "    rhr_z = np.array([landmark.z for landmark in results.multi_hand_landmarks[1].landmark])\n",
    "    \n",
    "    rhr_values = np.array(list(zip(rhr_x, rhr_y, rhr_z)))\n",
    "    rhr_values = rhr_values.flatten()\n",
    "    \n",
    "    left_hand_row = np.concatenate((left_hand_row, lhr_values))\n",
    "    right_hand_row = np.concatenate((right_hand_row, rhr_values))\n",
    "    \n",
    "    left_hand_row = ','.join(str(i) for i in left_hand_row)\n",
    "    right_hand_row = ','.join(str(i) for i in right_hand_row)\n",
    "    \n",
    "    with open(path, 'a') as f:\n",
    "        f.write(left_hand_row)\n",
    "        f.write('\\n')\n",
    "        f.write(right_hand_row)\n",
    "        f.write('\\n')\n"
   ]
  },
  {
   "cell_type": "code",
   "execution_count": 8,
   "id": "c9c062b2",
   "metadata": {},
   "outputs": [],
   "source": [
    "import time"
   ]
  },
  {
   "cell_type": "code",
   "execution_count": 11,
   "id": "7a684453",
   "metadata": {},
   "outputs": [
    {
     "name": "stdout",
     "output_type": "stream",
     "text": [
      "STARTING\n",
      "NOT WRITING\n",
      "NOT WRITING\n",
      "NOT WRITING\n",
      "NOT WRITING\n",
      "NOT WRITING\n",
      "NOT WRITING\n",
      "NOT WRITING\n",
      "NOT WRITING\n",
      "NOT WRITING\n",
      "NOT WRITING\n",
      "NOT WRITING\n",
      "NOT WRITING\n",
      "NOT WRITING\n",
      "NOT WRITING\n",
      "NOT WRITING\n",
      "NOT WRITING\n",
      "NOT WRITING\n",
      "NOT WRITING\n",
      "NOT WRITING\n",
      "NOT WRITING\n",
      "NOT WRITING\n",
      "NOT WRITING\n",
      "NOT WRITING\n",
      "NOT WRITING\n",
      "NOT WRITING\n",
      "NOT WRITING\n",
      "NOT WRITING\n",
      "NOT WRITING\n",
      "NOT WRITING\n",
      "NOT WRITING\n",
      "NOT WRITING\n"
     ]
    }
   ],
   "source": [
    "cap = cv.VideoCapture(0)\n",
    "hands = mp.solutions.hands.Hands(static_image_mode=False, max_num_hands=2, min_detection_confidence=0.7,\n",
    "                                 min_tracking_confidence=0.5)\n",
    "\n",
    "# x_landmarks_num12_0 = []\n",
    "# x_landmarks_num12_1 = []\n",
    "\n",
    "time.sleep(7)\n",
    "print('STARTING')\n",
    "while True:\n",
    "    success, img = cap.read()\n",
    "    img = cv.flip(img, 1)\n",
    "\n",
    "    if not success:\n",
    "        print(\"Could not read frame\")\n",
    "        break\n",
    "\n",
    "    results = hands.process(cv.cvtColor(img, cv.COLOR_BGR2RGB))\n",
    "\n",
    "    if results.multi_hand_landmarks:\n",
    "        if len(results.multi_hand_landmarks) == 2:\n",
    "#             x_landmarks_num12_0.append(results.multi_hand_landmarks[0].landmark[12].x)\n",
    "#             x_landmarks_num12_1.append(results.multi_hand_landmarks[1].landmark[12].x)\n",
    "            write_to_csv(results, 'idle_coordinates.csv')\n",
    "        \n",
    "        if len(results.multi_hand_landmarks) < 2:\n",
    "            print('NOT WRITING')\n",
    "                \n",
    "        \n",
    "        img = draw_landmarks(results, img)\n",
    "        \n",
    "    \n",
    "    cv.imshow(\"image\", img)\n",
    "\n",
    "    if cv.waitKey(1) == 27:  # Press ESC to exit\n",
    "        break\n",
    "\n",
    "cap.release()\n",
    "cv.destroyAllWindows()\n",
    "\n",
    "# print(x_landmarks_num12)\n",
    "# print(x_landmarks_num12)\n"
   ]
  },
  {
   "cell_type": "code",
   "execution_count": 6,
   "id": "484178a2",
   "metadata": {},
   "outputs": [
    {
     "ename": "NameError",
     "evalue": "name 'x_landmarks_num12_0' is not defined",
     "output_type": "error",
     "traceback": [
      "\u001b[1;31m---------------------------------------------------------------------------\u001b[0m",
      "\u001b[1;31mNameError\u001b[0m                                 Traceback (most recent call last)",
      "Cell \u001b[1;32mIn[6], line 3\u001b[0m\n\u001b[0;32m      1\u001b[0m \u001b[39mfrom\u001b[39;00m \u001b[39mstatistics\u001b[39;00m \u001b[39mimport\u001b[39;00m mean\n\u001b[1;32m----> 3\u001b[0m \u001b[39mprint\u001b[39m(mean(x_landmarks_num12_0))\n\u001b[0;32m      4\u001b[0m \u001b[39mprint\u001b[39m(mean(x_landmarks_num12_1))\n",
      "\u001b[1;31mNameError\u001b[0m: name 'x_landmarks_num12_0' is not defined"
     ]
    }
   ],
   "source": [
    "from statistics import mean\n",
    "\n",
    "print(mean(x_landmarks_num12_0))\n",
    "print(mean(x_landmarks_num12_1))"
   ]
  },
  {
   "cell_type": "code",
   "execution_count": 7,
   "id": "5a90715b",
   "metadata": {},
   "outputs": [
    {
     "name": "stdout",
     "output_type": "stream",
     "text": [
      "[classification {\n",
      "  index: 0\n",
      "  score: 0.97406626\n",
      "  label: \"Left\"\n",
      "}\n",
      "]\n"
     ]
    }
   ],
   "source": [
    "hands = mp.solutions.hands.Hands(static_image_mode=False, max_num_hands=2, min_detection_confidence=0.7,\n",
    "                                 min_tracking_confidence=0.5)\n",
    "\n",
    "# img = cv.imread('istockphoto-1267273871-612x612.jpg')\n",
    "img = cv.imread('left_hand.jpg')\n",
    "img = cv.flip(img, 1)\n",
    "\n",
    "\n",
    "cv.imshow('image', img)\n",
    "\n",
    "results = hands.process(cv.cvtColor(img, cv.COLOR_BGR2RGB))\n",
    "# # print(results.multi_hand_landmarks)\n",
    "# print(type(results.multi_hand_landmarks))\n",
    "# print(type(results.multi_hand_landmarks[0].landmark[:]))\n",
    "# x_landmarks = [landmark.x for landmark in results.multi_hand_landmarks[0].landmark]\n",
    "\n",
    "# print(x_landmarks)\n",
    "# print(len(x_landmarks))\n",
    "# \n",
    "print(results.multi_handedness)\n",
    "\n",
    "# write_to_csv(results, 'hands.csv')\n",
    "cv.waitKey(0)\n",
    "cv.destroyAllWindows()"
   ]
  },
  {
   "cell_type": "code",
   "execution_count": null,
   "id": "2830af45",
   "metadata": {},
   "outputs": [],
   "source": []
  }
 ],
 "metadata": {
  "kernelspec": {
   "display_name": "Python 3 (ipykernel)",
   "language": "python",
   "name": "python3"
  },
  "language_info": {
   "codemirror_mode": {
    "name": "ipython",
    "version": 3
   },
   "file_extension": ".py",
   "mimetype": "text/x-python",
   "name": "python",
   "nbconvert_exporter": "python",
   "pygments_lexer": "ipython3",
   "version": "3.11.4"
  }
 },
 "nbformat": 4,
 "nbformat_minor": 5
}
